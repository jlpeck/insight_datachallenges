{
 "cells": [
  {
   "cell_type": "markdown",
   "metadata": {},
   "source": [
    "## CostlyConversion\n",
    "\n",
    "### Jessica Peck, October 26, 2018\n",
    "\n",
    "You sit inside the product team at Symantec, which sells a cyber security software for $\\$39$ across a variety of devices. Revenue has been flat for some time, so the VP of Product would like to experiment with the effect of increasing the price. Your team designed an experiment to measure the effect of doing so. \n",
    "\n",
    "In the experiment, 66% of the users have seen the old price ($\\$39$), while a random sample of 33% users were shown a higher price ($\\$59$).\n",
    "\n",
    "The experiment has been running for some time and the VP of Product is interested in understanding how it went. She would like to learn key insights about what drives conversion rate. She'd like a recommendation of what price to sell the software at, and for you to quantify the cost of the experiment and whether you could have done it in shorter time. Would you have designed the experiment differently, why or why not?\n",
    "\n",
    "\n"
   ]
  },
  {
   "cell_type": "markdown",
   "metadata": {},
   "source": [
    "# Goals\n",
    "What drives the conversion rate?\n",
    "\n",
    "What price to sell the software at?\n",
    "\n",
    "How much did the experiment cost?\n",
    "\n",
    "Could it be done in a shorter time?\n",
    "\n",
    "How would you have designed the experiment differently? "
   ]
  },
  {
   "cell_type": "code",
   "execution_count": null,
   "metadata": {},
   "outputs": [],
   "source": []
  },
  {
   "cell_type": "code",
   "execution_count": 1,
   "metadata": {},
   "outputs": [
    {
     "name": "stdout",
     "output_type": "stream",
     "text": [
      "Populating the interactive namespace from numpy and matplotlib\n"
     ]
    }
   ],
   "source": [
    "import pandas as pd\n",
    "import numpy as np\n",
    "import seaborn as sns\n",
    "import datetime\n",
    "\n",
    "import geopandas\n",
    "from shapely.geometry import Point\n",
    "import matplotlib.pylab as plt\n",
    "from pylab import rcParams\n",
    "\n",
    "import missingno\n",
    "import statsmodels.api as sm\n",
    "\n",
    "\n",
    "\n",
    "#from sklearn import preprocessing\n",
    "#from sklearn.linear_model import LogisticRegression\n",
    "#from sklearn.model_selection import train_test_split\n",
    "#from sklearn import metrics\n",
    "\n",
    "%pylab inline\n",
    "\n",
    "pd.set_option('display.max_columns', 500)\n",
    "pd.set_option('display.max_rows', 500)\n",
    "pd.set_option('max_colwidth',500)    "
   ]
  },
  {
   "cell_type": "code",
   "execution_count": null,
   "metadata": {},
   "outputs": [],
   "source": []
  },
  {
   "cell_type": "markdown",
   "metadata": {},
   "source": [
    "## Test Results Table\n",
    "\n",
    "user_id : Id of the user. Matches user_id in user_table\n",
    "\n",
    "timestamp : the date and time when the user first accesed the company sales website (user local time)\n",
    "\n",
    "source : marketing channel that generated the user's site visit:  ",
    "ads-[\"google\", \"facebook\", \"bing\", \"yahoo\", \"other\"]. That is, user coming from ",
    "google ads, yahoo ads, etc. ",
    "seo - [\"google\", \"facebook\", \"bing\", \"yahoo\", \"other\"]. That is, user coming from google search, yahoo, facebook, etc.\n",
    "\n",
    "friend_referral : user coming from a referral link of another user\n",
    "\n",
    "direct_traffic: user coming by directly typing the address of the site on the browser\n",
    "\n",
    "device : user device. Can be mobile or web\n",
    "\n",
    "operative_system : user operative system. Can be: \"windows\", \"linux\", \"mac\" for web, and \"android\", \"iOS\" for mobile. \"Other\" if it is none of the above\n",
    "\n",
    "test: whether the user was in the test (i.e. 1 -> higher price) or in control (0 -> old, lower price)\n",
    "\n",
    "price : the price the user sees. It should match test\n",
    "\n",
    "converted : whether the user converted (i.e. 1 -> bought the software) or not (0 -> left the site without buying it)."
   ]
  },
  {
   "cell_type": "code",
   "execution_count": 2,
   "metadata": {},
   "outputs": [],
   "source": [
    "# read in data\n",
    "testresults = pd.read_csv('../test_results.csv')"
   ]
  },
  {
   "cell_type": "code",
   "execution_count": 3,
   "metadata": {},
   "outputs": [
    {
     "data": {
      "text/html": [
       "<div>\n",
       "<style scoped>\n",
       "    .dataframe tbody tr th:only-of-type {\n",
       "        vertical-align: middle;\n",
       "    }\n",
       "\n",
       "    .dataframe tbody tr th {\n",
       "        vertical-align: top;\n",
       "    }\n",
       "\n",
       "    .dataframe thead th {\n",
       "        text-align: right;\n",
       "    }\n",
       "</style>\n",
       "<table border=\"1\" class=\"dataframe\">\n",
       "  <thead>\n",
       "    <tr style=\"text-align: right;\">\n",
       "      <th></th>\n",
       "      <th>Unnamed: 0</th>\n",
       "      <th>user_id</th>\n",
       "      <th>timestamp</th>\n",
       "      <th>source</th>\n",
       "      <th>device</th>\n",
       "      <th>operative_system</th>\n",
       "      <th>test</th>\n",
       "      <th>price</th>\n",
       "      <th>converted</th>\n",
       "    </tr>\n",
       "  </thead>\n",
       "  <tbody>\n",
       "    <tr>\n",
       "      <th>0</th>\n",
       "      <td>0</td>\n",
       "      <td>604839</td>\n",
       "      <td>2015-05-08 03:38:34</td>\n",
       "      <td>ads_facebook</td>\n",
       "      <td>mobile</td>\n",
       "      <td>iOS</td>\n",
       "      <td>0</td>\n",
       "      <td>39.0</td>\n",
       "      <td>0</td>\n",
       "    </tr>\n",
       "    <tr>\n",
       "      <th>1</th>\n",
       "      <td>1</td>\n",
       "      <td>624057</td>\n",
       "      <td>2015-05-10 21:08:46</td>\n",
       "      <td>seo-google</td>\n",
       "      <td>mobile</td>\n",
       "      <td>android</td>\n",
       "      <td>0</td>\n",
       "      <td>39.0</td>\n",
       "      <td>0</td>\n",
       "    </tr>\n",
       "    <tr>\n",
       "      <th>2</th>\n",
       "      <td>2</td>\n",
       "      <td>317970</td>\n",
       "      <td>2015-04-04 15:01:23</td>\n",
       "      <td>ads-bing</td>\n",
       "      <td>mobile</td>\n",
       "      <td>android</td>\n",
       "      <td>0</td>\n",
       "      <td>39.0</td>\n",
       "      <td>0</td>\n",
       "    </tr>\n",
       "  </tbody>\n",
       "</table>\n",
       "</div>"
      ],
      "text/plain": [
       "   Unnamed: 0  user_id            timestamp        source  device  \\\n",
       "0           0   604839  2015-05-08 03:38:34  ads_facebook  mobile   \n",
       "1           1   624057  2015-05-10 21:08:46    seo-google  mobile   \n",
       "2           2   317970  2015-04-04 15:01:23      ads-bing  mobile   \n",
       "\n",
       "  operative_system  test  price  converted  \n",
       "0              iOS     0   39.0          0  \n",
       "1          android     0   39.0          0  \n",
       "2          android     0   39.0          0  "
      ]
     },
     "execution_count": 3,
     "metadata": {},
     "output_type": "execute_result"
    }
   ],
   "source": [
    "# check format\n",
    "testresults.head(3)"
   ]
  },
  {
   "cell_type": "code",
   "execution_count": 4,
   "metadata": {},
   "outputs": [
    {
     "data": {
      "text/html": [
       "<div>\n",
       "<style scoped>\n",
       "    .dataframe tbody tr th:only-of-type {\n",
       "        vertical-align: middle;\n",
       "    }\n",
       "\n",
       "    .dataframe tbody tr th {\n",
       "        vertical-align: top;\n",
       "    }\n",
       "\n",
       "    .dataframe thead th {\n",
       "        text-align: right;\n",
       "    }\n",
       "</style>\n",
       "<table border=\"1\" class=\"dataframe\">\n",
       "  <thead>\n",
       "    <tr style=\"text-align: right;\">\n",
       "      <th></th>\n",
       "      <th>Unnamed: 0</th>\n",
       "      <th>user_id</th>\n",
       "      <th>test</th>\n",
       "      <th>price</th>\n",
       "      <th>converted</th>\n",
       "    </tr>\n",
       "  </thead>\n",
       "  <tbody>\n",
       "    <tr>\n",
       "      <th>count</th>\n",
       "      <td>316800.000000</td>\n",
       "      <td>316800.000000</td>\n",
       "      <td>316800.000000</td>\n",
       "      <td>3.168000e+05</td>\n",
       "      <td>316800.000000</td>\n",
       "    </tr>\n",
       "    <tr>\n",
       "      <th>mean</th>\n",
       "      <td>158399.500000</td>\n",
       "      <td>499281.341840</td>\n",
       "      <td>0.360079</td>\n",
       "      <td>6.457590e+06</td>\n",
       "      <td>0.018333</td>\n",
       "    </tr>\n",
       "    <tr>\n",
       "      <th>std</th>\n",
       "      <td>91452.426977</td>\n",
       "      <td>288591.154044</td>\n",
       "      <td>0.480024</td>\n",
       "      <td>6.797307e+07</td>\n",
       "      <td>0.134154</td>\n",
       "    </tr>\n",
       "    <tr>\n",
       "      <th>min</th>\n",
       "      <td>0.000000</td>\n",
       "      <td>3.000000</td>\n",
       "      <td>0.000000</td>\n",
       "      <td>3.900000e+01</td>\n",
       "      <td>0.000000</td>\n",
       "    </tr>\n",
       "    <tr>\n",
       "      <th>25%</th>\n",
       "      <td>79199.750000</td>\n",
       "      <td>249525.750000</td>\n",
       "      <td>0.000000</td>\n",
       "      <td>3.900000e+01</td>\n",
       "      <td>0.000000</td>\n",
       "    </tr>\n",
       "    <tr>\n",
       "      <th>50%</th>\n",
       "      <td>158399.500000</td>\n",
       "      <td>499021.500000</td>\n",
       "      <td>0.000000</td>\n",
       "      <td>3.900000e+01</td>\n",
       "      <td>0.000000</td>\n",
       "    </tr>\n",
       "    <tr>\n",
       "      <th>75%</th>\n",
       "      <td>237599.250000</td>\n",
       "      <td>749025.500000</td>\n",
       "      <td>1.000000</td>\n",
       "      <td>5.900000e+01</td>\n",
       "      <td>0.000000</td>\n",
       "    </tr>\n",
       "    <tr>\n",
       "      <th>max</th>\n",
       "      <td>316799.000000</td>\n",
       "      <td>1000000.000000</td>\n",
       "      <td>1.000000</td>\n",
       "      <td>9.998843e+08</td>\n",
       "      <td>1.000000</td>\n",
       "    </tr>\n",
       "  </tbody>\n",
       "</table>\n",
       "</div>"
      ],
      "text/plain": [
       "          Unnamed: 0         user_id           test         price  \\\n",
       "count  316800.000000   316800.000000  316800.000000  3.168000e+05   \n",
       "mean   158399.500000   499281.341840       0.360079  6.457590e+06   \n",
       "std     91452.426977   288591.154044       0.480024  6.797307e+07   \n",
       "min         0.000000        3.000000       0.000000  3.900000e+01   \n",
       "25%     79199.750000   249525.750000       0.000000  3.900000e+01   \n",
       "50%    158399.500000   499021.500000       0.000000  3.900000e+01   \n",
       "75%    237599.250000   749025.500000       1.000000  5.900000e+01   \n",
       "max    316799.000000  1000000.000000       1.000000  9.998843e+08   \n",
       "\n",
       "           converted  \n",
       "count  316800.000000  \n",
       "mean        0.018333  \n",
       "std         0.134154  \n",
       "min         0.000000  \n",
       "25%         0.000000  \n",
       "50%         0.000000  \n",
       "75%         0.000000  \n",
       "max         1.000000  "
      ]
     },
     "execution_count": 4,
     "metadata": {},
     "output_type": "execute_result"
    }
   ],
   "source": [
    "testresults.describe()"
   ]
  },
  {
   "cell_type": "code",
   "execution_count": 5,
   "metadata": {},
   "outputs": [
    {
     "data": {
      "text/plain": [
       "0    202727\n",
       "1    114073\n",
       "Name: test, dtype: int64"
      ]
     },
     "execution_count": 5,
     "metadata": {},
     "output_type": "execute_result"
    }
   ],
   "source": [
    "# no values besides 0/1 in the test indicator\n",
    "testresults['test'].value_counts()"
   ]
  },
  {
   "cell_type": "code",
   "execution_count": 6,
   "metadata": {},
   "outputs": [
    {
     "data": {
      "text/plain": [
       "0    310992\n",
       "1      5808\n",
       "Name: converted, dtype: int64"
      ]
     },
     "execution_count": 6,
     "metadata": {},
     "output_type": "execute_result"
    }
   ],
   "source": [
    "# no values besides 0/1 in the converted indicator\n",
    "testresults['converted'].value_counts()"
   ]
  },
  {
   "cell_type": "code",
   "execution_count": 7,
   "metadata": {},
   "outputs": [
    {
     "data": {
      "text/plain": [
       "count    3.168000e+05\n",
       "mean     6.457590e+06\n",
       "std      6.797307e+07\n",
       "min      3.900000e+01\n",
       "25%      3.900000e+01\n",
       "50%      3.900000e+01\n",
       "75%      5.900000e+01\n",
       "max      9.998843e+08\n",
       "Name: price, dtype: float64"
      ]
     },
     "execution_count": 7,
     "metadata": {},
     "output_type": "execute_result"
    }
   ],
   "source": [
    "# Price distribution looks odd. Turns out there are ~ 3000 weird large-number prices (like 536537851.0) that customers were shown.\n",
    "testresults['price'].describe()"
   ]
  },
  {
   "cell_type": "code",
   "execution_count": null,
   "metadata": {},
   "outputs": [],
   "source": []
  },
  {
   "cell_type": "markdown",
   "metadata": {},
   "source": [
    "In the price variable, there are about 3000 large-value \"mistake\" prices (?) outo of about 300k (potentially) real data.\n",
    "It's not clear why these numbers were shown to customers, but they should be omitted from the results.\n",
    "Not clear whether a \"wrong\" price is only shown to our side and \"real\" value could be imputed?"
   ]
  },
  {
   "cell_type": "code",
   "execution_count": 8,
   "metadata": {},
   "outputs": [
    {
     "data": {
      "text/plain": [
       "316800"
      ]
     },
     "execution_count": 8,
     "metadata": {},
     "output_type": "execute_result"
    }
   ],
   "source": [
    "# how many test results total?\n",
    "len(testresults)"
   ]
  },
  {
   "cell_type": "code",
   "execution_count": 9,
   "metadata": {},
   "outputs": [
    {
     "data": {
      "text/plain": [
       "310653"
      ]
     },
     "execution_count": 9,
     "metadata": {},
     "output_type": "execute_result"
    }
   ],
   "source": [
    "# Total count of 39 or 59 records minus count of weird-number records\n",
    "sum(testresults['price'].value_counts().iloc[0:2]) - sum(testresults['price'].value_counts().iloc[3:])"
   ]
  },
  {
   "cell_type": "code",
   "execution_count": 10,
   "metadata": {},
   "outputs": [
    {
     "data": {
      "text/plain": [
       "39.0           200747\n",
       "59.0           112979\n",
       "536537851.0         1\n",
       "722005503.0         1\n",
       "362003840.0         1\n",
       "Name: price, dtype: int64"
      ]
     },
     "execution_count": 10,
     "metadata": {},
     "output_type": "execute_result"
    }
   ],
   "source": [
    "testresults['price'].value_counts().head(5)"
   ]
  },
  {
   "cell_type": "code",
   "execution_count": 11,
   "metadata": {},
   "outputs": [
    {
     "data": {
      "text/html": [
       "<div>\n",
       "<style scoped>\n",
       "    .dataframe tbody tr th:only-of-type {\n",
       "        vertical-align: middle;\n",
       "    }\n",
       "\n",
       "    .dataframe tbody tr th {\n",
       "        vertical-align: top;\n",
       "    }\n",
       "\n",
       "    .dataframe thead th {\n",
       "        text-align: right;\n",
       "    }\n",
       "</style>\n",
       "<table border=\"1\" class=\"dataframe\">\n",
       "  <thead>\n",
       "    <tr style=\"text-align: right;\">\n",
       "      <th></th>\n",
       "      <th>Unnamed: 0</th>\n",
       "      <th>user_id</th>\n",
       "      <th>test</th>\n",
       "      <th>price</th>\n",
       "      <th>converted</th>\n",
       "    </tr>\n",
       "  </thead>\n",
       "  <tbody>\n",
       "    <tr>\n",
       "      <th>count</th>\n",
       "      <td>3074.000000</td>\n",
       "      <td>3074.000000</td>\n",
       "      <td>3074.000000</td>\n",
       "      <td>3.074000e+03</td>\n",
       "      <td>3074.000000</td>\n",
       "    </tr>\n",
       "    <tr>\n",
       "      <th>mean</th>\n",
       "      <td>157564.235198</td>\n",
       "      <td>496257.819128</td>\n",
       "      <td>0.373780</td>\n",
       "      <td>6.655010e+08</td>\n",
       "      <td>0.019193</td>\n",
       "    </tr>\n",
       "    <tr>\n",
       "      <th>std</th>\n",
       "      <td>91677.315621</td>\n",
       "      <td>286851.064251</td>\n",
       "      <td>0.483885</td>\n",
       "      <td>1.938532e+08</td>\n",
       "      <td>0.137226</td>\n",
       "    </tr>\n",
       "    <tr>\n",
       "      <th>min</th>\n",
       "      <td>94.000000</td>\n",
       "      <td>112.000000</td>\n",
       "      <td>0.000000</td>\n",
       "      <td>3.246805e+08</td>\n",
       "      <td>0.000000</td>\n",
       "    </tr>\n",
       "    <tr>\n",
       "      <th>25%</th>\n",
       "      <td>77694.250000</td>\n",
       "      <td>254223.500000</td>\n",
       "      <td>0.000000</td>\n",
       "      <td>4.997930e+08</td>\n",
       "      <td>0.000000</td>\n",
       "    </tr>\n",
       "    <tr>\n",
       "      <th>50%</th>\n",
       "      <td>157247.500000</td>\n",
       "      <td>485644.500000</td>\n",
       "      <td>0.000000</td>\n",
       "      <td>6.685073e+08</td>\n",
       "      <td>0.000000</td>\n",
       "    </tr>\n",
       "    <tr>\n",
       "      <th>75%</th>\n",
       "      <td>235591.750000</td>\n",
       "      <td>741266.250000</td>\n",
       "      <td>1.000000</td>\n",
       "      <td>8.298946e+08</td>\n",
       "      <td>0.000000</td>\n",
       "    </tr>\n",
       "    <tr>\n",
       "      <th>max</th>\n",
       "      <td>316386.000000</td>\n",
       "      <td>999743.000000</td>\n",
       "      <td>1.000000</td>\n",
       "      <td>9.998843e+08</td>\n",
       "      <td>1.000000</td>\n",
       "    </tr>\n",
       "  </tbody>\n",
       "</table>\n",
       "</div>"
      ],
      "text/plain": [
       "          Unnamed: 0        user_id         test         price    converted\n",
       "count    3074.000000    3074.000000  3074.000000  3.074000e+03  3074.000000\n",
       "mean   157564.235198  496257.819128     0.373780  6.655010e+08     0.019193\n",
       "std     91677.315621  286851.064251     0.483885  1.938532e+08     0.137226\n",
       "min        94.000000     112.000000     0.000000  3.246805e+08     0.000000\n",
       "25%     77694.250000  254223.500000     0.000000  4.997930e+08     0.000000\n",
       "50%    157247.500000  485644.500000     0.000000  6.685073e+08     0.000000\n",
       "75%    235591.750000  741266.250000     1.000000  8.298946e+08     0.000000\n",
       "max    316386.000000  999743.000000     1.000000  9.998843e+08     1.000000"
      ]
     },
     "execution_count": 11,
     "metadata": {},
     "output_type": "execute_result"
    }
   ],
   "source": [
    "# anything jump out about the weird-price sample? \n",
    "testresults[testresults['price'] > 100].describe()"
   ]
  },
  {
   "cell_type": "markdown",
   "metadata": {},
   "source": [
    "If those weird-price customers were actually shown that price:\n",
    "1. looks like almost none of them converted\n",
    "2. looks like all of them were in the \"treatment\" group,\n",
    "(or maybe the test variable was generated mechanically as > 39 from the price column)"
   ]
  },
  {
   "cell_type": "code",
   "execution_count": 12,
   "metadata": {},
   "outputs": [
    {
     "name": "stdout",
     "output_type": "stream",
     "text": [
      "0    3015\n",
      "1      59\n",
      "Name: converted, dtype: int64 0    1925\n",
      "1    1149\n",
      "Name: test, dtype: int64\n"
     ]
    }
   ],
   "source": [
    "# count converted values w/i weird price sample\n",
    "# count treatment group indicator w/i weird price sample\n",
    "print(testresults[testresults['price'] > 100]['converted'].value_counts(), testresults[testresults['price'] > 100]['test'].value_counts())"
   ]
  },
  {
   "cell_type": "code",
   "execution_count": 13,
   "metadata": {},
   "outputs": [
    {
     "name": "stdout",
     "output_type": "stream",
     "text": [
      "316800 316800\n"
     ]
    }
   ],
   "source": [
    "# Check Id's are unique (not dupes)\n",
    "print(len((testresults['user_id']).unique()), len(testresults))"
   ]
  },
  {
   "cell_type": "code",
   "execution_count": 14,
   "metadata": {},
   "outputs": [
    {
     "data": {
      "text/plain": [
       "<matplotlib.axes._subplots.AxesSubplot at 0x1a2d60e4a8>"
      ]
     },
     "execution_count": 14,
     "metadata": {},
     "output_type": "execute_result"
    },
    {
     "data": {
      "image/png": "[encoded data removed]",
      "text/plain": [
       "<Figure size 1800x720 with 2 Axes>"
      ]
     },
     "metadata": {
      "needs_background": "light"
     },
     "output_type": "display_data"
    }
   ],
   "source": [
    "# Check for missing values\n",
    "missingno.matrix(testresults)"
   ]
  },
  {
   "cell_type": "code",
   "execution_count": 15,
   "metadata": {},
   "outputs": [
    {
     "data": {
      "text/plain": [
       "windows    100878\n",
       "iOS         95352\n",
       "android     74856\n",
       "mac         25056\n",
       "i0S           113\n",
       "wnddows        98\n",
       "anroid         79\n",
       "apple          29\n",
       "Name: operative_system, dtype: int64"
      ]
     },
     "execution_count": 15,
     "metadata": {},
     "output_type": "execute_result"
    }
   ],
   "source": [
    "testresults.operative_system.value_counts()"
   ]
  },
  {
   "cell_type": "markdown",
   "metadata": {},
   "source": [
    "## User Table\n",
    "\n",
    "\n",
    "city: city name string\n",
    "\n",
    "country: country name string\n",
    "\n",
    "lat/long: geographic coordinates"
   ]
  },
  {
   "cell_type": "code",
   "execution_count": 16,
   "metadata": {},
   "outputs": [],
   "source": [
    "usertable = pd.read_csv('../user_table.csv')"
   ]
  },
  {
   "cell_type": "code",
   "execution_count": 17,
   "metadata": {},
   "outputs": [
    {
     "data": {
      "text/html": [
       "<div>\n",
       "<style scoped>\n",
       "    .dataframe tbody tr th:only-of-type {\n",
       "        vertical-align: middle;\n",
       "    }\n",
       "\n",
       "    .dataframe tbody tr th {\n",
       "        vertical-align: top;\n",
       "    }\n",
       "\n",
       "    .dataframe thead th {\n",
       "        text-align: right;\n",
       "    }\n",
       "</style>\n",
       "<table border=\"1\" class=\"dataframe\">\n",
       "  <thead>\n",
       "    <tr style=\"text-align: right;\">\n",
       "      <th></th>\n",
       "      <th>user_id</th>\n",
       "      <th>city</th>\n",
       "      <th>country</th>\n",
       "      <th>lat</th>\n",
       "      <th>long</th>\n",
       "    </tr>\n",
       "  </thead>\n",
       "  <tbody>\n",
       "    <tr>\n",
       "      <th>0</th>\n",
       "      <td>510335</td>\n",
       "      <td>Peabody</td>\n",
       "      <td>USA</td>\n",
       "      <td>42.53</td>\n",
       "      <td>-70.97</td>\n",
       "    </tr>\n",
       "    <tr>\n",
       "      <th>1</th>\n",
       "      <td>89568</td>\n",
       "      <td>Reno</td>\n",
       "      <td>USA</td>\n",
       "      <td>39.54</td>\n",
       "      <td>-119.82</td>\n",
       "    </tr>\n",
       "    <tr>\n",
       "      <th>2</th>\n",
       "      <td>434134</td>\n",
       "      <td>Rialto</td>\n",
       "      <td>USA</td>\n",
       "      <td>34.11</td>\n",
       "      <td>-117.39</td>\n",
       "    </tr>\n",
       "  </tbody>\n",
       "</table>\n",
       "</div>"
      ],
      "text/plain": [
       "   user_id     city country    lat    long\n",
       "0   510335  Peabody     USA  42.53  -70.97\n",
       "1    89568     Reno     USA  39.54 -119.82\n",
       "2   434134   Rialto     USA  34.11 -117.39"
      ]
     },
     "execution_count": 17,
     "metadata": {},
     "output_type": "execute_result"
    }
   ],
   "source": [
    "usertable.head(3)"
   ]
  },
  {
   "cell_type": "code",
   "execution_count": 18,
   "metadata": {},
   "outputs": [
    {
     "data": {
      "text/html": [
       "<div>\n",
       "<style scoped>\n",
       "    .dataframe tbody tr th:only-of-type {\n",
       "        vertical-align: middle;\n",
       "    }\n",
       "\n",
       "    .dataframe tbody tr th {\n",
       "        vertical-align: top;\n",
       "    }\n",
       "\n",
       "    .dataframe thead th {\n",
       "        text-align: right;\n",
       "    }\n",
       "</style>\n",
       "<table border=\"1\" class=\"dataframe\">\n",
       "  <thead>\n",
       "    <tr style=\"text-align: right;\">\n",
       "      <th></th>\n",
       "      <th>user_id</th>\n",
       "      <th>lat</th>\n",
       "      <th>long</th>\n",
       "    </tr>\n",
       "  </thead>\n",
       "  <tbody>\n",
       "    <tr>\n",
       "      <th>count</th>\n",
       "      <td>275616.000000</td>\n",
       "      <td>275616.000000</td>\n",
       "      <td>275616.000000</td>\n",
       "    </tr>\n",
       "    <tr>\n",
       "      <th>mean</th>\n",
       "      <td>499245.801521</td>\n",
       "      <td>37.111680</td>\n",
       "      <td>-93.981772</td>\n",
       "    </tr>\n",
       "    <tr>\n",
       "      <th>std</th>\n",
       "      <td>288533.458944</td>\n",
       "      <td>5.209627</td>\n",
       "      <td>18.086486</td>\n",
       "    </tr>\n",
       "    <tr>\n",
       "      <th>min</th>\n",
       "      <td>3.000000</td>\n",
       "      <td>19.700000</td>\n",
       "      <td>-157.800000</td>\n",
       "    </tr>\n",
       "    <tr>\n",
       "      <th>25%</th>\n",
       "      <td>249544.500000</td>\n",
       "      <td>33.660000</td>\n",
       "      <td>-112.200000</td>\n",
       "    </tr>\n",
       "    <tr>\n",
       "      <th>50%</th>\n",
       "      <td>498861.000000</td>\n",
       "      <td>37.740000</td>\n",
       "      <td>-88.930000</td>\n",
       "    </tr>\n",
       "    <tr>\n",
       "      <th>75%</th>\n",
       "      <td>748856.500000</td>\n",
       "      <td>40.700000</td>\n",
       "      <td>-78.910000</td>\n",
       "    </tr>\n",
       "    <tr>\n",
       "      <th>max</th>\n",
       "      <td>999999.000000</td>\n",
       "      <td>61.180000</td>\n",
       "      <td>30.310000</td>\n",
       "    </tr>\n",
       "  </tbody>\n",
       "</table>\n",
       "</div>"
      ],
      "text/plain": [
       "             user_id            lat           long\n",
       "count  275616.000000  275616.000000  275616.000000\n",
       "mean   499245.801521      37.111680     -93.981772\n",
       "std    288533.458944       5.209627      18.086486\n",
       "min         3.000000      19.700000    -157.800000\n",
       "25%    249544.500000      33.660000    -112.200000\n",
       "50%    498861.000000      37.740000     -88.930000\n",
       "75%    748856.500000      40.700000     -78.910000\n",
       "max    999999.000000      61.180000      30.310000"
      ]
     },
     "execution_count": 18,
     "metadata": {},
     "output_type": "execute_result"
    }
   ],
   "source": [
    "usertable.describe()"
   ]
  },
  {
   "cell_type": "code",
   "execution_count": 19,
   "metadata": {},
   "outputs": [
    {
     "data": {
      "text/plain": [
       "<matplotlib.axes._subplots.AxesSubplot at 0x1a2c5f6a58>"
      ]
     },
     "execution_count": 19,
     "metadata": {},
     "output_type": "execute_result"
    },
    {
     "data": {
      "image/png": "[encoded data removed]",
      "text/plain": [
       "<Figure size 1800x720 with 2 Axes>"
      ]
     },
     "metadata": {
      "needs_background": "light"
     },
     "output_type": "display_data"
    }
   ],
   "source": [
    "missingno.matrix(usertable)"
   ]
  },
  {
   "cell_type": "code",
   "execution_count": 20,
   "metadata": {},
   "outputs": [],
   "source": [
    "# merge testresults and user table son user_id\n",
    "\n",
    "newdf = pd.merge(testresults, usertable, on='user_id')"
   ]
  },
  {
   "cell_type": "code",
   "execution_count": 21,
   "metadata": {},
   "outputs": [
    {
     "data": {
      "text/plain": [
       "275616"
      ]
     },
     "execution_count": 21,
     "metadata": {},
     "output_type": "execute_result"
    }
   ],
   "source": [
    "len(usertable)"
   ]
  },
  {
   "cell_type": "code",
   "execution_count": 22,
   "metadata": {},
   "outputs": [
    {
     "data": {
      "text/plain": [
       "316800"
      ]
     },
     "execution_count": 22,
     "metadata": {},
     "output_type": "execute_result"
    }
   ],
   "source": [
    "len(testresults)"
   ]
  },
  {
   "cell_type": "code",
   "execution_count": 23,
   "metadata": {},
   "outputs": [
    {
     "data": {
      "text/plain": [
       "275616"
      ]
     },
     "execution_count": 23,
     "metadata": {},
     "output_type": "execute_result"
    }
   ],
   "source": [
    "len(newdf)"
   ]
  },
  {
   "cell_type": "code",
   "execution_count": 24,
   "metadata": {},
   "outputs": [
    {
     "data": {
      "text/html": [
       "<div>\n",
       "<style scoped>\n",
       "    .dataframe tbody tr th:only-of-type {\n",
       "        vertical-align: middle;\n",
       "    }\n",
       "\n",
       "    .dataframe tbody tr th {\n",
       "        vertical-align: top;\n",
       "    }\n",
       "\n",
       "    .dataframe thead th {\n",
       "        text-align: right;\n",
       "    }\n",
       "</style>\n",
       "<table border=\"1\" class=\"dataframe\">\n",
       "  <thead>\n",
       "    <tr style=\"text-align: right;\">\n",
       "      <th></th>\n",
       "      <th>Unnamed: 0</th>\n",
       "      <th>user_id</th>\n",
       "      <th>timestamp</th>\n",
       "      <th>source</th>\n",
       "      <th>device</th>\n",
       "      <th>operative_system</th>\n",
       "      <th>test</th>\n",
       "      <th>price</th>\n",
       "      <th>converted</th>\n",
       "      <th>city</th>\n",
       "      <th>country</th>\n",
       "      <th>lat</th>\n",
       "      <th>long</th>\n",
       "    </tr>\n",
       "  </thead>\n",
       "  <tbody>\n",
       "    <tr>\n",
       "      <th>0</th>\n",
       "      <td>0</td>\n",
       "      <td>604839</td>\n",
       "      <td>2015-05-08 03:38:34</td>\n",
       "      <td>ads_facebook</td>\n",
       "      <td>mobile</td>\n",
       "      <td>iOS</td>\n",
       "      <td>0</td>\n",
       "      <td>39.0</td>\n",
       "      <td>0</td>\n",
       "      <td>Buffalo</td>\n",
       "      <td>USA</td>\n",
       "      <td>42.89</td>\n",
       "      <td>-78.86</td>\n",
       "    </tr>\n",
       "    <tr>\n",
       "      <th>1</th>\n",
       "      <td>1</td>\n",
       "      <td>624057</td>\n",
       "      <td>2015-05-10 21:08:46</td>\n",
       "      <td>seo-google</td>\n",
       "      <td>mobile</td>\n",
       "      <td>android</td>\n",
       "      <td>0</td>\n",
       "      <td>39.0</td>\n",
       "      <td>0</td>\n",
       "      <td>Lakeville</td>\n",
       "      <td>USA</td>\n",
       "      <td>44.68</td>\n",
       "      <td>-93.24</td>\n",
       "    </tr>\n",
       "    <tr>\n",
       "      <th>2</th>\n",
       "      <td>2</td>\n",
       "      <td>317970</td>\n",
       "      <td>2015-04-04 15:01:23</td>\n",
       "      <td>ads-bing</td>\n",
       "      <td>mobile</td>\n",
       "      <td>android</td>\n",
       "      <td>0</td>\n",
       "      <td>39.0</td>\n",
       "      <td>0</td>\n",
       "      <td>Parma</td>\n",
       "      <td>USA</td>\n",
       "      <td>41.38</td>\n",
       "      <td>-81.73</td>\n",
       "    </tr>\n",
       "    <tr>\n",
       "      <th>3</th>\n",
       "      <td>3</td>\n",
       "      <td>685636</td>\n",
       "      <td>2015-05-07 07:26:01</td>\n",
       "      <td>direct_traffic</td>\n",
       "      <td>mobile</td>\n",
       "      <td>iOS</td>\n",
       "      <td>1</td>\n",
       "      <td>59.0</td>\n",
       "      <td>0</td>\n",
       "      <td>Fayetteville</td>\n",
       "      <td>USA</td>\n",
       "      <td>35.07</td>\n",
       "      <td>-78.90</td>\n",
       "    </tr>\n",
       "    <tr>\n",
       "      <th>4</th>\n",
       "      <td>4</td>\n",
       "      <td>820854</td>\n",
       "      <td>2015-05-24 11:04:40</td>\n",
       "      <td>ads_facebook</td>\n",
       "      <td>web</td>\n",
       "      <td>mac</td>\n",
       "      <td>0</td>\n",
       "      <td>39.0</td>\n",
       "      <td>0</td>\n",
       "      <td>Fishers</td>\n",
       "      <td>USA</td>\n",
       "      <td>39.95</td>\n",
       "      <td>-86.02</td>\n",
       "    </tr>\n",
       "  </tbody>\n",
       "</table>\n",
       "</div>"
      ],
      "text/plain": [
       "   Unnamed: 0  user_id            timestamp          source  device  \\\n",
       "0           0   604839  2015-05-08 03:38:34    ads_facebook  mobile   \n",
       "1           1   624057  2015-05-10 21:08:46      seo-google  mobile   \n",
       "2           2   317970  2015-04-04 15:01:23        ads-bing  mobile   \n",
       "3           3   685636  2015-05-07 07:26:01  direct_traffic  mobile   \n",
       "4           4   820854  2015-05-24 11:04:40    ads_facebook     web   \n",
       "\n",
       "  operative_system  test  price  converted          city country    lat   long  \n",
       "0              iOS     0   39.0          0       Buffalo     USA  42.89 -78.86  \n",
       "1          android     0   39.0          0     Lakeville     USA  44.68 -93.24  \n",
       "2          android     0   39.0          0         Parma     USA  41.38 -81.73  \n",
       "3              iOS     1   59.0          0  Fayetteville     USA  35.07 -78.90  \n",
       "4              mac     0   39.0          0       Fishers     USA  39.95 -86.02  "
      ]
     },
     "execution_count": 24,
     "metadata": {},
     "output_type": "execute_result"
    }
   ],
   "source": [
    "newdf.head()"
   ]
  },
  {
   "cell_type": "markdown",
   "metadata": {},
   "source": [
    "## Using the location data\n",
    "The country variable says all users are USA based. \n",
    "Does that mean the design of the experiment was to target US users? \n",
    "\n",
    "From the map below, clearly there's a mismatch between country and location data in this table.\n",
    "Is the location-grabber function in our pipeline broken?\n",
    "Is it fraud or malicious action? (Hey aren't we a computer security company?)"
   ]
  },
  {
   "cell_type": "code",
   "execution_count": 25,
   "metadata": {},
   "outputs": [
    {
     "data": {
      "text/plain": [
       "USA    275616\n",
       "Name: country, dtype: int64"
      ]
     },
     "execution_count": 25,
     "metadata": {},
     "output_type": "execute_result"
    }
   ],
   "source": [
    "newdf.country.value_counts()"
   ]
  },
  {
   "cell_type": "code",
   "execution_count": 26,
   "metadata": {},
   "outputs": [
    {
     "data": {
      "text/plain": [
       "<matplotlib.axes._subplots.AxesSubplot at 0x1a3cc6f208>"
      ]
     },
     "execution_count": 26,
     "metadata": {},
     "output_type": "execute_result"
    },
    {
     "data": {
      "image/png": "[encoded data removed]",
      "text/plain": [
       "<Figure size 432x288 with 1 Axes>"
      ]
     },
     "metadata": {
      "needs_background": "light"
     },
     "output_type": "display_data"
    }
   ],
   "source": [
    "newdf['coordinates'] =  list(zip(newdf.long, newdf.lat))\n",
    "newdf['coordinates'] = newdf['coordinates'].apply(Point)\n",
    "\n",
    "gdf = geopandas.GeoDataFrame(newdf, geometry='coordinates')\n",
    "\n",
    "world = geopandas.read_file(geopandas.datasets.get_path('naturalearth_lowres'))\n",
    "ax = world.plot( color='white', edgecolor='black')\n",
    "\n",
    "# We can now plot our GeoDataFrame.\n",
    "gdf.plot(ax=ax, color='red')\n",
    "#plt.show()\n",
    "#plt.savefig('map.png', dpi=400)"
   ]
  },
  {
   "cell_type": "code",
   "execution_count": 28,
   "metadata": {},
   "outputs": [
    {
     "data": {
      "text/plain": [
       "Anchorage    522\n",
       "Honolulu     352\n",
       "Hilo          18\n",
       "Name: city, dtype: int64"
      ]
     },
     "execution_count": 28,
     "metadata": {},
     "output_type": "execute_result"
    }
   ],
   "source": [
    "# we have some points off to the west that appear to be in the US\n",
    "newdf[(newdf['long'] < -125)].city.value_counts()"
   ]
  },
  {
   "cell_type": "markdown",
   "metadata": {},
   "source": [
    "## Some of our users for this test are in St Petersburg (Russia? Florida?)\n",
    "There are three extra copies of St Petersburg. \n",
    "One is in Floria, the others are in Asia, Africa, and Northern Canada. \n",
    "It's unclear whether these were all supposed to be in the US or if there are Russian users mixed in. \n",
    "\n",
    "If I had more time, I might attempt to include the non-US data points and figure out which are which.\n",
    "Until then, I think it's a cleaner experiment if it doesn't cross international borders, so I'm dropping them."
   ]
  },
  {
   "cell_type": "code",
   "execution_count": 29,
   "metadata": {},
   "outputs": [
    {
     "data": {
      "text/plain": [
       "Index(['Unnamed: 0', 'user_id', 'timestamp', 'source', 'device',\n",
       "       'operative_system', 'test', 'price', 'converted', 'city', 'country',\n",
       "       'lat', 'long', 'coordinates'],\n",
       "      dtype='object')"
      ]
     },
     "execution_count": 29,
     "metadata": {},
     "output_type": "execute_result"
    }
   ],
   "source": [
    "newdf.columns"
   ]
  },
  {
   "cell_type": "code",
   "execution_count": 30,
   "metadata": {},
   "outputs": [
    {
     "data": {
      "text/plain": [
       "Saint Petersburg    192\n",
       "Name: city, dtype: int64"
      ]
     },
     "execution_count": 30,
     "metadata": {},
     "output_type": "execute_result"
    }
   ],
   "source": [
    "# counts for the extra St. Petersburg entries\n",
    "newdf[(newdf['lat'] > 53) & (newdf['long'] > 25)].city.value_counts()"
   ]
  },
  {
   "cell_type": "code",
   "execution_count": 31,
   "metadata": {},
   "outputs": [],
   "source": [
    "wrongrussia = newdf[(newdf['lat'] > 53) & (newdf['long'] > 25)]"
   ]
  },
  {
   "cell_type": "code",
   "execution_count": 32,
   "metadata": {},
   "outputs": [
    {
     "data": {
      "text/plain": [
       "0    100\n",
       "1     92\n",
       "Name: test, dtype: int64"
      ]
     },
     "execution_count": 32,
     "metadata": {},
     "output_type": "execute_result"
    }
   ],
   "source": [
    "wrongrussia.test.value_counts()"
   ]
  },
  {
   "cell_type": "code",
   "execution_count": 33,
   "metadata": {},
   "outputs": [
    {
     "data": {
      "text/plain": [
       "39.0           100\n",
       "59.0            90\n",
       "958639538.0      1\n",
       "604157977.0      1\n",
       "Name: price, dtype: int64"
      ]
     },
     "execution_count": 33,
     "metadata": {},
     "output_type": "execute_result"
    }
   ],
   "source": [
    "wrongrussia.price.value_counts()"
   ]
  },
  {
   "cell_type": "code",
   "execution_count": 34,
   "metadata": {},
   "outputs": [
    {
     "data": {
      "text/plain": [
       "0    190\n",
       "1      2\n",
       "Name: converted, dtype: int64"
      ]
     },
     "execution_count": 34,
     "metadata": {},
     "output_type": "execute_result"
    }
   ],
   "source": [
    "wrongrussia.converted.value_counts()"
   ]
  },
  {
   "cell_type": "code",
   "execution_count": 35,
   "metadata": {},
   "outputs": [
    {
     "data": {
      "text/plain": [
       "ads-google         41\n",
       "ads_facebook       32\n",
       "ads_other          20\n",
       "direct_traffic     20\n",
       "friend_referral    20\n",
       "seo-other          13\n",
       "seo-google         13\n",
       "seo_facebook       12\n",
       "ads-yahoo          11\n",
       "ads-bing            6\n",
       "seo-yahoo           3\n",
       "seo-bing            1\n",
       "Name: source, dtype: int64"
      ]
     },
     "execution_count": 35,
     "metadata": {},
     "output_type": "execute_result"
    }
   ],
   "source": [
    "wrongrussia.source.value_counts()"
   ]
  },
  {
   "cell_type": "code",
   "execution_count": 36,
   "metadata": {},
   "outputs": [
    {
     "data": {
      "text/plain": [
       "mobile    102\n",
       "web        90\n",
       "Name: device, dtype: int64"
      ]
     },
     "execution_count": 36,
     "metadata": {},
     "output_type": "execute_result"
    }
   ],
   "source": [
    "wrongrussia.device.value_counts()"
   ]
  },
  {
   "cell_type": "code",
   "execution_count": 37,
   "metadata": {},
   "outputs": [
    {
     "data": {
      "text/plain": [
       "windows    60\n",
       "iOS        58\n",
       "android    37\n",
       "mac        22\n",
       "Name: operative_system, dtype: int64"
      ]
     },
     "execution_count": 37,
     "metadata": {},
     "output_type": "execute_result"
    }
   ],
   "source": [
    "wrongrussia.operative_system.value_counts()"
   ]
  },
  {
   "cell_type": "code",
   "execution_count": null,
   "metadata": {},
   "outputs": [],
   "source": []
  },
  {
   "cell_type": "code",
   "execution_count": 38,
   "metadata": {},
   "outputs": [],
   "source": [
    "# remove non-US-location st petersburg user data\n",
    "# constrain to south of latitude 53\n",
    "newdf = newdf[newdf['lat'] < 53]\n",
    "# constrain to east of longitude -100\n",
    "newdf = newdf[newdf['long'] < 25]"
   ]
  },
  {
   "cell_type": "code",
   "execution_count": 39,
   "metadata": {},
   "outputs": [
    {
     "data": {
      "text/plain": [
       "39.0           174053\n",
       "59.0            97846\n",
       "536537851.0         1\n",
       "721845395.0         1\n",
       "362003840.0         1\n",
       "Name: price, dtype: int64"
      ]
     },
     "execution_count": 39,
     "metadata": {},
     "output_type": "execute_result"
    }
   ],
   "source": [
    "# that doesn't fix the problem with the prices, so drop price >100 too.\n",
    "newdf.price.value_counts().head()"
   ]
  },
  {
   "cell_type": "code",
   "execution_count": 40,
   "metadata": {},
   "outputs": [],
   "source": [
    "newdf = newdf[newdf['price'] < 100]"
   ]
  },
  {
   "cell_type": "markdown",
   "metadata": {},
   "source": [
    "## NANs for 'operative_system', 'source', and 'timestamp'\n",
    "\n",
    "operative_system and source can get a new categorical variable and maybe still be useful.\n",
    "\n",
    "Timestamp (if I include it in a regression) may cause trouble. Will drop."
   ]
  },
  {
   "cell_type": "markdown",
   "metadata": {},
   "source": [
    "### Timestamp"
   ]
  },
  {
   "cell_type": "code",
   "execution_count": 41,
   "metadata": {},
   "outputs": [
    {
     "data": {
      "text/plain": [
       "0    179\n",
       "1    111\n",
       "Name: test, dtype: int64"
      ]
     },
     "execution_count": 41,
     "metadata": {},
     "output_type": "execute_result"
    }
   ],
   "source": [
    "newdf[pd.isna(newdf['timestamp'])].test.value_counts()"
   ]
  },
  {
   "cell_type": "code",
   "execution_count": 42,
   "metadata": {},
   "outputs": [
    {
     "data": {
      "text/plain": [
       "271899"
      ]
     },
     "execution_count": 42,
     "metadata": {},
     "output_type": "execute_result"
    }
   ],
   "source": [
    "len(newdf)"
   ]
  },
  {
   "cell_type": "code",
   "execution_count": 43,
   "metadata": {},
   "outputs": [
    {
     "data": {
      "text/plain": [
       "271609"
      ]
     },
     "execution_count": 43,
     "metadata": {},
     "output_type": "execute_result"
    }
   ],
   "source": [
    "len(newdf[pd.notnull(newdf['timestamp'])])"
   ]
  },
  {
   "cell_type": "code",
   "execution_count": 44,
   "metadata": {},
   "outputs": [],
   "source": [
    "newdf = newdf[pd.notnull(newdf['timestamp'])]"
   ]
  },
  {
   "cell_type": "markdown",
   "metadata": {},
   "source": [
    "### Source"
   ]
  },
  {
   "cell_type": "code",
   "execution_count": 45,
   "metadata": {},
   "outputs": [
    {
     "data": {
      "text/plain": [
       "0    170\n",
       "1     98\n",
       "Name: test, dtype: int64"
      ]
     },
     "execution_count": 45,
     "metadata": {},
     "output_type": "execute_result"
    }
   ],
   "source": [
    "newdf[pd.isna(newdf['source'])].test.value_counts()"
   ]
  },
  {
   "cell_type": "code",
   "execution_count": 46,
   "metadata": {},
   "outputs": [
    {
     "data": {
      "text/plain": [
       "268"
      ]
     },
     "execution_count": 46,
     "metadata": {},
     "output_type": "execute_result"
    }
   ],
   "source": [
    "len(newdf[pd.isna(newdf['source'])])"
   ]
  },
  {
   "cell_type": "code",
   "execution_count": 196,
   "metadata": {},
   "outputs": [],
   "source": [
    "# new category: unknown\n",
    "newdf['source'] = newdf['source'].fillna('unknown')"
   ]
  },
  {
   "cell_type": "code",
   "execution_count": 77,
   "metadata": {},
   "outputs": [
    {
     "data": {
      "text/plain": [
       "array(['ads_facebook', 'seo-google', 'ads-bing', 'direct_traffic',\n",
       "       'ads-google', 'friend_referral', 'ads_other', 'ads-yahoo',\n",
       "       'seo-yahoo', 'seo_facebook', 'seo-bing', 'seo-other', 'unknown'],\n",
       "      dtype=object)"
      ]
     },
     "execution_count": 77,
     "metadata": {},
     "output_type": "execute_result"
    }
   ],
   "source": [
    "newdf['source'].unique()"
   ]
  },
  {
   "cell_type": "markdown",
   "metadata": {},
   "source": [
    "### Operative System"
   ]
  },
  {
   "cell_type": "code",
   "execution_count": 48,
   "metadata": {},
   "outputs": [
    {
     "data": {
      "text/plain": [
       "0    10971\n",
       "1     6517\n",
       "Name: test, dtype: int64"
      ]
     },
     "execution_count": 48,
     "metadata": {},
     "output_type": "execute_result"
    }
   ],
   "source": [
    "newdf[pd.isna(newdf['operative_system'])].test.value_counts()"
   ]
  },
  {
   "cell_type": "code",
   "execution_count": 49,
   "metadata": {},
   "outputs": [
    {
     "data": {
      "text/plain": [
       "17488"
      ]
     },
     "execution_count": 49,
     "metadata": {},
     "output_type": "execute_result"
    }
   ],
   "source": [
    "len(newdf[pd.isna(newdf['operative_system'])])"
   ]
  },
  {
   "cell_type": "code",
   "execution_count": 50,
   "metadata": {},
   "outputs": [],
   "source": [
    "newdf['operative_system'] = newdf['operative_system'].fillna('unknown')"
   ]
  },
  {
   "cell_type": "code",
   "execution_count": 76,
   "metadata": {},
   "outputs": [
    {
     "data": {
      "text/plain": [
       "array(['iOS', 'android', 'mac', 'windows', 'unknown'], dtype=object)"
      ]
     },
     "execution_count": 76,
     "metadata": {},
     "output_type": "execute_result"
    }
   ],
   "source": [
    "# there are a bunch of typos and repeats to clean\n",
    "newdf['operative_system'].unique()"
   ]
  },
  {
   "cell_type": "code",
   "execution_count": 69,
   "metadata": {},
   "outputs": [],
   "source": [
    "newdf['operative_system'] = np.where(newdf['operative_system'] == 'wnddows', 'windows', newdf['operative_system'])"
   ]
  },
  {
   "cell_type": "code",
   "execution_count": 71,
   "metadata": {},
   "outputs": [],
   "source": [
    "newdf['operative_system'] = np.where(newdf['operative_system'] == 'i0S', 'iOS', newdf['operative_system'])"
   ]
  },
  {
   "cell_type": "code",
   "execution_count": 73,
   "metadata": {},
   "outputs": [],
   "source": [
    "newdf['operative_system'] = np.where(newdf['operative_system'] == 'anroid', 'android', newdf['operative_system'])"
   ]
  },
  {
   "cell_type": "code",
   "execution_count": 75,
   "metadata": {},
   "outputs": [],
   "source": [
    "newdf['operative_system'] = np.where(newdf['operative_system'] == 'apple', 'mac', newdf['operative_system'])"
   ]
  },
  {
   "cell_type": "code",
   "execution_count": null,
   "metadata": {},
   "outputs": [],
   "source": []
  },
  {
   "cell_type": "code",
   "execution_count": null,
   "metadata": {},
   "outputs": [],
   "source": []
  },
  {
   "cell_type": "markdown",
   "metadata": {},
   "source": [
    "### What can I say about the distributions in this dataframe? Can I show that my A and B groups are the same?"
   ]
  },
  {
   "cell_type": "code",
   "execution_count": 78,
   "metadata": {},
   "outputs": [
    {
     "data": {
      "text/plain": [
       "Index(['Unnamed: 0', 'user_id', 'timestamp', 'source', 'device',\n",
       "       'operative_system', 'test', 'price', 'converted', 'city', 'country',\n",
       "       'lat', 'long', 'coordinates', 'testdate', 'date'],\n",
       "      dtype='object')"
      ]
     },
     "execution_count": 78,
     "metadata": {},
     "output_type": "execute_result"
    }
   ],
   "source": [
    "newdf.columns"
   ]
  },
  {
   "cell_type": "code",
   "execution_count": 79,
   "metadata": {},
   "outputs": [
    {
     "name": "stdout",
     "output_type": "stream",
     "text": [
      "<class 'numpy.int64'> Unnamed: 0\n",
      "<class 'numpy.int64'> user_id\n",
      "<class 'str'> timestamp\n",
      "<class 'str'> source\n",
      "<class 'str'> device\n",
      "<class 'str'> operative_system\n",
      "<class 'numpy.int64'> test\n",
      "<class 'numpy.float64'> price\n",
      "<class 'numpy.int64'> converted\n",
      "<class 'str'> city\n",
      "<class 'str'> country\n",
      "<class 'numpy.float64'> lat\n",
      "<class 'numpy.float64'> long\n",
      "<class 'shapely.geometry.point.Point'> coordinates\n",
      "<class 'pandas._libs.tslibs.timestamps.Timestamp'> testdate\n",
      "<class 'str'> date\n"
     ]
    }
   ],
   "source": [
    "# what are the datatypes?\n",
    "for thing in newdf.columns:\n",
    "    print( type(newdf[thing][0]), thing)"
   ]
  },
  {
   "cell_type": "code",
   "execution_count": 80,
   "metadata": {},
   "outputs": [
    {
     "data": {
      "text/plain": [
       "'2015-05-08 03:38:34'"
      ]
     },
     "execution_count": 80,
     "metadata": {},
     "output_type": "execute_result"
    }
   ],
   "source": [
    "# need to convert timestamp to datetime object for plotting\n",
    "newdf.timestamp[0]"
   ]
  },
  {
   "cell_type": "code",
   "execution_count": 83,
   "metadata": {},
   "outputs": [],
   "source": [
    "# coerce timestamp to datetime object\n",
    "newdf['date'] = [x.split()[0] for x in newdf['timestamp']]\n",
    "newdf['testdate'] = pd.to_datetime(newdf['date'], errors='coerce')\n",
    "newdf['testdate'] = pd.to_datetime(np.where(pd.isna(newdf['testdate']), newdf['date'].str.replace('2815', '2015'), newdf['testdate']))"
   ]
  },
  {
   "cell_type": "code",
   "execution_count": 84,
   "metadata": {},
   "outputs": [
    {
     "data": {
      "text/plain": [
       "<matplotlib.axes._subplots.AxesSubplot at 0x1a32994ef0>"
      ]
     },
     "execution_count": 84,
     "metadata": {},
     "output_type": "execute_result"
    },
    {
     "data": {
      "image/png": "[encoded data removed]",
      "text/plain": [
       "<Figure size 1080x360 with 2 Axes>"
      ]
     },
     "metadata": {
      "needs_background": "light"
     },
     "output_type": "display_data"
    }
   ],
   "source": [
    "rcParams['figure.figsize'] = 15, 5\n",
    "\n",
    "# Plot counts over time\n",
    "# Pretty big weekly cyclicality. People like to buy on weekends?\n",
    "fig, ax =plt.subplots(2,1)\n",
    "sns.countplot(newdf[newdf['test']==1]['testdate'], ax=ax[0])\n",
    "sns.countplot(newdf[newdf['test']==0]['testdate'], ax=ax[1])\n",
    "\n"
   ]
  },
  {
   "cell_type": "code",
   "execution_count": 87,
   "metadata": {},
   "outputs": [
    {
     "data": {
      "text/plain": [
       "<matplotlib.axes._subplots.AxesSubplot at 0x1a4215cc18>"
      ]
     },
     "execution_count": 87,
     "metadata": {},
     "output_type": "execute_result"
    },
    {
     "data": {
      "image/png": "[encoded data removed]",
      "text/plain": [
       "<Figure size 1080x360 with 2 Axes>"
      ]
     },
     "metadata": {
      "needs_background": "light"
     },
     "output_type": "display_data"
    }
   ],
   "source": [
    "# Web traffic source\n",
    "fig, ax =plt.subplots(2,1, sharex=True)\n",
    "sns.countplot(newdf[newdf['test']==1]['source'], ax=ax[0])\n",
    "sns.countplot(newdf[newdf['test']==0]['source'], ax=ax[1])\n",
    "\n",
    "\n"
   ]
  },
  {
   "cell_type": "code",
   "execution_count": 88,
   "metadata": {},
   "outputs": [
    {
     "data": {
      "text/plain": [
       "<matplotlib.axes._subplots.AxesSubplot at 0x1a43dd0470>"
      ]
     },
     "execution_count": 88,
     "metadata": {},
     "output_type": "execute_result"
    },
    {
     "data": {
      "image/png": "[encoded data removed]",
      "text/plain": [
       "<Figure size 1080x360 with 2 Axes>"
      ]
     },
     "metadata": {
      "needs_background": "light"
     },
     "output_type": "display_data"
    }
   ],
   "source": [
    "# web vs desktop device label\n",
    "rcParams['figure.figsize'] = 15, 5\n",
    "\n",
    "fig, ax =plt.subplots(2,1, sharex = True)\n",
    "sns.countplot(newdf[newdf['test']==1]['device'], ax=ax[0])\n",
    "sns.countplot(newdf[newdf['test']==0]['device'], ax=ax[1])\n"
   ]
  },
  {
   "cell_type": "code",
   "execution_count": 89,
   "metadata": {},
   "outputs": [
    {
     "data": {
      "text/plain": [
       "<matplotlib.axes._subplots.AxesSubplot at 0x1a43e18b00>"
      ]
     },
     "execution_count": 89,
     "metadata": {},
     "output_type": "execute_result"
    },
    {
     "data": {
      "image/png": "[encoded data removed]",
      "text/plain": [
       "<Figure size 1080x360 with 2 Axes>"
      ]
     },
     "metadata": {
      "needs_background": "light"
     },
     "output_type": "display_data"
    }
   ],
   "source": [
    "# operating sytem: way more mac people in the treated group, more windows people in the control group.\n",
    "# I wonder if there's a way to condition what price we show on their operating system? This coudl be better balanced\n",
    "fig, ax =plt.subplots(2,1, sharex = True)\n",
    "sns.countplot(newdf[newdf['test']==1]['operative_system'], ax=ax[0])\n",
    "sns.countplot(newdf[newdf['test']==0]['operative_system'], ax=ax[1])"
   ]
  },
  {
   "cell_type": "code",
   "execution_count": null,
   "metadata": {},
   "outputs": [],
   "source": []
  },
  {
   "cell_type": "code",
   "execution_count": 90,
   "metadata": {},
   "outputs": [
    {
     "data": {
      "text/plain": [
       "182"
      ]
     },
     "execution_count": 90,
     "metadata": {},
     "output_type": "execute_result"
    }
   ],
   "source": [
    "# how many unique data-collection dates do we have?\n",
    "len(newdf.testdate.unique())*2"
   ]
  },
  {
   "cell_type": "code",
   "execution_count": 91,
   "metadata": {},
   "outputs": [],
   "source": [
    "# plot conversion rate over time?\n",
    "\n",
    "plotdf = newdf[['test','testdate', 'converted']]\n",
    "sums = plotdf.set_index('testdate').groupby(['test', pd.Grouper(freq='D')])['converted'].sum()\n",
    "counts =  plotdf.set_index('testdate').groupby(['test', pd.Grouper(freq='D')])['converted'].count()"
   ]
  },
  {
   "cell_type": "code",
   "execution_count": 92,
   "metadata": {},
   "outputs": [
    {
     "data": {
      "text/plain": [
       "271609"
      ]
     },
     "execution_count": 92,
     "metadata": {},
     "output_type": "execute_result"
    }
   ],
   "source": [
    "len(plotdf)"
   ]
  },
  {
   "cell_type": "code",
   "execution_count": 93,
   "metadata": {},
   "outputs": [],
   "source": [
    "sums = sums.reset_index(level=0)\n",
    "counts = counts.reset_index(level=0)"
   ]
  },
  {
   "cell_type": "code",
   "execution_count": 94,
   "metadata": {},
   "outputs": [],
   "source": [
    "sumspivot = sums.pivot(columns = 'test', values = 'converted')\n",
    "countspivot = counts.pivot(columns = 'test', values = 'converted')"
   ]
  },
  {
   "cell_type": "code",
   "execution_count": 95,
   "metadata": {},
   "outputs": [
    {
     "data": {
      "text/html": [
       "<div>\n",
       "<style scoped>\n",
       "    .dataframe tbody tr th:only-of-type {\n",
       "        vertical-align: middle;\n",
       "    }\n",
       "\n",
       "    .dataframe tbody tr th {\n",
       "        vertical-align: top;\n",
       "    }\n",
       "\n",
       "    .dataframe thead th {\n",
       "        text-align: right;\n",
       "    }\n",
       "</style>\n",
       "<table border=\"1\" class=\"dataframe\">\n",
       "  <thead>\n",
       "    <tr style=\"text-align: right;\">\n",
       "      <th>test</th>\n",
       "      <th>0</th>\n",
       "      <th>1</th>\n",
       "    </tr>\n",
       "    <tr>\n",
       "      <th>testdate</th>\n",
       "      <th></th>\n",
       "      <th></th>\n",
       "    </tr>\n",
       "  </thead>\n",
       "  <tbody>\n",
       "    <tr>\n",
       "      <th>2015-03-02</th>\n",
       "      <td>15</td>\n",
       "      <td>8</td>\n",
       "    </tr>\n",
       "    <tr>\n",
       "      <th>2015-03-03</th>\n",
       "      <td>19</td>\n",
       "      <td>4</td>\n",
       "    </tr>\n",
       "  </tbody>\n",
       "</table>\n",
       "</div>"
      ],
      "text/plain": [
       "test         0  1\n",
       "testdate         \n",
       "2015-03-02  15  8\n",
       "2015-03-03  19  4"
      ]
     },
     "execution_count": 95,
     "metadata": {},
     "output_type": "execute_result"
    }
   ],
   "source": [
    "sumspivot.head(2)"
   ]
  },
  {
   "cell_type": "code",
   "execution_count": 96,
   "metadata": {},
   "outputs": [
    {
     "data": {
      "text/html": [
       "<div>\n",
       "<style scoped>\n",
       "    .dataframe tbody tr th:only-of-type {\n",
       "        vertical-align: middle;\n",
       "    }\n",
       "\n",
       "    .dataframe tbody tr th {\n",
       "        vertical-align: top;\n",
       "    }\n",
       "\n",
       "    .dataframe thead th {\n",
       "        text-align: right;\n",
       "    }\n",
       "</style>\n",
       "<table border=\"1\" class=\"dataframe\">\n",
       "  <thead>\n",
       "    <tr style=\"text-align: right;\">\n",
       "      <th>test</th>\n",
       "      <th>0</th>\n",
       "      <th>1</th>\n",
       "    </tr>\n",
       "    <tr>\n",
       "      <th>testdate</th>\n",
       "      <th></th>\n",
       "      <th></th>\n",
       "    </tr>\n",
       "  </thead>\n",
       "  <tbody>\n",
       "    <tr>\n",
       "      <th>2015-03-02</th>\n",
       "      <td>867</td>\n",
       "      <td>492</td>\n",
       "    </tr>\n",
       "    <tr>\n",
       "      <th>2015-03-03</th>\n",
       "      <td>802</td>\n",
       "      <td>494</td>\n",
       "    </tr>\n",
       "  </tbody>\n",
       "</table>\n",
       "</div>"
      ],
      "text/plain": [
       "test          0    1\n",
       "testdate            \n",
       "2015-03-02  867  492\n",
       "2015-03-03  802  494"
      ]
     },
     "execution_count": 96,
     "metadata": {},
     "output_type": "execute_result"
    }
   ],
   "source": [
    "countspivot.head(2)"
   ]
  },
  {
   "cell_type": "code",
   "execution_count": 97,
   "metadata": {},
   "outputs": [],
   "source": [
    "rates = sumspivot/countspivot"
   ]
  },
  {
   "cell_type": "code",
   "execution_count": 98,
   "metadata": {},
   "outputs": [],
   "source": [
    "rates.columns = ['control', 'treated']"
   ]
  },
  {
   "cell_type": "code",
   "execution_count": 99,
   "metadata": {},
   "outputs": [
    {
     "data": {
      "text/plain": [
       "<matplotlib.axes._subplots.AxesSubplot at 0x1a29366fd0>"
      ]
     },
     "execution_count": 99,
     "metadata": {},
     "output_type": "execute_result"
    },
    {
     "data": {
      "image/png": "[encoded data removed]",
      "text/plain": [
       "<Figure size 1080x360 with 1 Axes>"
      ]
     },
     "metadata": {
      "needs_background": "light"
     },
     "output_type": "display_data"
    }
   ],
   "source": [
    "# daily conversion rate (#conversions / total impressions per day by test group) \n",
    "rates.plot()"
   ]
  },
  {
   "cell_type": "code",
   "execution_count": 100,
   "metadata": {},
   "outputs": [],
   "source": [
    "cumulative_rates = sumspivot.cumsum() / countspivot.cumsum()\n"
   ]
  },
  {
   "cell_type": "code",
   "execution_count": 101,
   "metadata": {},
   "outputs": [
    {
     "data": {
      "text/plain": [
       "<matplotlib.axes._subplots.AxesSubplot at 0x1a435e5908>"
      ]
     },
     "execution_count": 101,
     "metadata": {},
     "output_type": "execute_result"
    },
    {
     "data": {
      "image/png": "[encoded data removed]",
      "text/plain": [
       "<Figure size 1080x360 with 1 Axes>"
      ]
     },
     "metadata": {
      "needs_background": "light"
     },
     "output_type": "display_data"
    }
   ],
   "source": [
    "# cumulative conversion rate (all previous elapsed conversion / all elapsed impressions by test group )\n",
    "cumulative_rates.plot()"
   ]
  },
  {
   "cell_type": "code",
   "execution_count": 133,
   "metadata": {},
   "outputs": [],
   "source": [
    "prices = pd.Series({'control': 39, 'treated': 59})"
   ]
  },
  {
   "cell_type": "code",
   "execution_count": 135,
   "metadata": {},
   "outputs": [],
   "source": [
    "cumulative_rates.columns = ['control', 'treated']"
   ]
  },
  {
   "cell_type": "code",
   "execution_count": 137,
   "metadata": {},
   "outputs": [],
   "source": [
    "vpc = cumulative_rates * prices"
   ]
  },
  {
   "cell_type": "code",
   "execution_count": 139,
   "metadata": {},
   "outputs": [
    {
     "data": {
      "text/plain": [
       "<matplotlib.axes._subplots.AxesSubplot at 0x1a431d15c0>"
      ]
     },
     "execution_count": 139,
     "metadata": {},
     "output_type": "execute_result"
    },
    {
     "data": {
      "image/png": "[encoded data removed]",
      "text/plain": [
       "<Figure size 864x720 with 1 Axes>"
      ]
     },
     "metadata": {
      "needs_background": "light"
     },
     "output_type": "display_data"
    }
   ],
   "source": [
    "# Cumulative Rate * Price gives value per impression for each group\n",
    "vpc.plot()"
   ]
  },
  {
   "cell_type": "markdown",
   "metadata": {},
   "source": [
    "## How do I calculate how much this experiment \"cost\" me (or in this case, made me money)?"
   ]
  },
  {
   "cell_type": "code",
   "execution_count": 156,
   "metadata": {},
   "outputs": [
    {
     "data": {
      "text/plain": [
       "75392.8139208629"
      ]
     },
     "execution_count": 156,
     "metadata": {},
     "output_type": "execute_result"
    }
   ],
   "source": [
    "# control dollars per impression for control price * total count treated impressions\n",
    "# opportunity cost (you could have shown all the $59 people $39 instead and had this)\n",
    "opcost = vpc.tail(1).iloc[0,0] * countspivot.sum()[1]\n",
    "opcost"
   ]
  },
  {
   "cell_type": "code",
   "execution_count": 157,
   "metadata": {},
   "outputs": [
    {
     "data": {
      "text/plain": [
       "89149.0"
      ]
     },
     "execution_count": 157,
     "metadata": {},
     "output_type": "execute_result"
    }
   ],
   "source": [
    "# control dollars per impression for treated price * total count treated impressions\n",
    "# what we actually got from treated group\n",
    "treatedrevenue = vpc.tail(1).iloc[0,1] * countspivot.sum()[1]\n",
    "treatedrevenue"
   ]
  },
  {
   "cell_type": "code",
   "execution_count": 158,
   "metadata": {},
   "outputs": [
    {
     "data": {
      "text/plain": [
       "13756.1860791371"
      ]
     },
     "execution_count": 158,
     "metadata": {},
     "output_type": "execute_result"
    }
   ],
   "source": [
    "# we made ~ $13K off this\n",
    "treatedrevenue-opcost"
   ]
  },
  {
   "cell_type": "code",
   "execution_count": null,
   "metadata": {},
   "outputs": [],
   "source": []
  },
  {
   "cell_type": "markdown",
   "metadata": {},
   "source": [
    "## What variables drive the conversion rate? Try regression for inference.\n"
   ]
  },
  {
   "cell_type": "code",
   "execution_count": null,
   "metadata": {},
   "outputs": [],
   "source": [
    "# there's some strong weekly cyclicality, so best put in dummies for weekdays\n",
    "newdf['weekday'] = [x.weekday() for x in newdf['testdate']]"
   ]
  },
  {
   "cell_type": "code",
   "execution_count": null,
   "metadata": {},
   "outputs": [],
   "source": []
  },
  {
   "cell_type": "code",
   "execution_count": 114,
   "metadata": {},
   "outputs": [],
   "source": [
    "# convert all relevant features to dummies\n",
    "daysofweek = pd.get_dummies(newdf['weekday'],drop_first=True)\n",
    "source = pd.get_dummies(newdf['source'],drop_first=True)\n",
    "opsystem = pd.get_dummies(newdf['operative_system'],drop_first=True)\n",
    "device = pd.get_dummies(newdf['device'],drop_first=True)\n",
    "test = newdf['test']\n",
    "\n",
    "fitdf = pd.concat([test, daysofweek, source, opsystem, device],axis=1)\n",
    "y = newdf['converted']"
   ]
  },
  {
   "cell_type": "code",
   "execution_count": 111,
   "metadata": {},
   "outputs": [
    {
     "data": {
      "text/html": [
       "<div>\n",
       "<style scoped>\n",
       "    .dataframe tbody tr th:only-of-type {\n",
       "        vertical-align: middle;\n",
       "    }\n",
       "\n",
       "    .dataframe tbody tr th {\n",
       "        vertical-align: top;\n",
       "    }\n",
       "\n",
       "    .dataframe thead th {\n",
       "        text-align: right;\n",
       "    }\n",
       "</style>\n",
       "<table border=\"1\" class=\"dataframe\">\n",
       "  <thead>\n",
       "    <tr style=\"text-align: right;\">\n",
       "      <th></th>\n",
       "      <th>1</th>\n",
       "      <th>2</th>\n",
       "      <th>3</th>\n",
       "      <th>4</th>\n",
       "      <th>5</th>\n",
       "      <th>6</th>\n",
       "    </tr>\n",
       "  </thead>\n",
       "  <tbody>\n",
       "    <tr>\n",
       "      <th>0</th>\n",
       "      <td>0</td>\n",
       "      <td>0</td>\n",
       "      <td>0</td>\n",
       "      <td>1</td>\n",
       "      <td>0</td>\n",
       "      <td>0</td>\n",
       "    </tr>\n",
       "    <tr>\n",
       "      <th>1</th>\n",
       "      <td>0</td>\n",
       "      <td>0</td>\n",
       "      <td>0</td>\n",
       "      <td>0</td>\n",
       "      <td>0</td>\n",
       "      <td>1</td>\n",
       "    </tr>\n",
       "    <tr>\n",
       "      <th>2</th>\n",
       "      <td>0</td>\n",
       "      <td>0</td>\n",
       "      <td>0</td>\n",
       "      <td>0</td>\n",
       "      <td>1</td>\n",
       "      <td>0</td>\n",
       "    </tr>\n",
       "    <tr>\n",
       "      <th>3</th>\n",
       "      <td>0</td>\n",
       "      <td>0</td>\n",
       "      <td>1</td>\n",
       "      <td>0</td>\n",
       "      <td>0</td>\n",
       "      <td>0</td>\n",
       "    </tr>\n",
       "    <tr>\n",
       "      <th>4</th>\n",
       "      <td>0</td>\n",
       "      <td>0</td>\n",
       "      <td>0</td>\n",
       "      <td>0</td>\n",
       "      <td>0</td>\n",
       "      <td>1</td>\n",
       "    </tr>\n",
       "  </tbody>\n",
       "</table>\n",
       "</div>"
      ],
      "text/plain": [
       "   1  2  3  4  5  6\n",
       "0  0  0  0  1  0  0\n",
       "1  0  0  0  0  0  1\n",
       "2  0  0  0  0  1  0\n",
       "3  0  0  1  0  0  0\n",
       "4  0  0  0  0  0  1"
      ]
     },
     "execution_count": 111,
     "metadata": {},
     "output_type": "execute_result"
    }
   ],
   "source": [
    "daysofweek.head()"
   ]
  },
  {
   "cell_type": "code",
   "execution_count": 106,
   "metadata": {},
   "outputs": [
    {
     "data": {
      "text/plain": [
       "converted          int64\n",
       "test               int64\n",
       "1                  uint8\n",
       "2                  uint8\n",
       "3                  uint8\n",
       "4                  uint8\n",
       "5                  uint8\n",
       "6                  uint8\n",
       "ads-google         uint8\n",
       "ads-yahoo          uint8\n",
       "ads_facebook       uint8\n",
       "ads_other          uint8\n",
       "direct_traffic     uint8\n",
       "friend_referral    uint8\n",
       "seo-bing           uint8\n",
       "seo-google         uint8\n",
       "seo-other          uint8\n",
       "seo-yahoo          uint8\n",
       "seo_facebook       uint8\n",
       "unknown            uint8\n",
       "iOS                uint8\n",
       "mac                uint8\n",
       "unknown            uint8\n",
       "windows            uint8\n",
       "web                uint8\n",
       "dtype: object"
      ]
     },
     "execution_count": 106,
     "metadata": {},
     "output_type": "execute_result"
    }
   ],
   "source": [
    "fitdf.dtypes"
   ]
  },
  {
   "cell_type": "code",
   "execution_count": 112,
   "metadata": {},
   "outputs": [
    {
     "data": {
      "text/plain": [
       "<matplotlib.axes._subplots.AxesSubplot at 0x1a31f6d6a0>"
      ]
     },
     "execution_count": 112,
     "metadata": {},
     "output_type": "execute_result"
    },
    {
     "data": {
      "image/png": "[encoded data removed]",
      "text/plain": [
       "<Figure size 864x720 with 2 Axes>"
      ]
     },
     "metadata": {
      "needs_background": "light"
     },
     "output_type": "display_data"
    }
   ],
   "source": [
    "# correlation for all dummies in the dataframe\n",
    "\n",
    "# there's an argument to change weekday to weekend vs weekday only dummy\n",
    "# device might be redundant with mobile/desktop \n",
    "\n",
    "rcParams['figure.figsize'] = 12,10\n",
    "sns.heatmap(fitdf.corr(), center = 0)  \n"
   ]
  },
  {
   "cell_type": "code",
   "execution_count": 199,
   "metadata": {},
   "outputs": [],
   "source": [
    "# set up linear model"
   ]
  },
  {
   "cell_type": "code",
   "execution_count": 125,
   "metadata": {},
   "outputs": [],
   "source": [
    "fitdf = sm.add_constant(fitdf)"
   ]
  },
  {
   "cell_type": "code",
   "execution_count": 126,
   "metadata": {},
   "outputs": [],
   "source": [
    "model = sm.OLS(y, fitdf)"
   ]
  },
  {
   "cell_type": "code",
   "execution_count": 127,
   "metadata": {},
   "outputs": [],
   "source": [
    "results = model.fit()"
   ]
  },
  {
   "cell_type": "code",
   "execution_count": 128,
   "metadata": {},
   "outputs": [
    {
     "data": {
      "text/plain": [
       "const              0.009603\n",
       "test              -0.004255\n",
       "1                 -0.001426\n",
       "2                  0.000169\n",
       "3                  0.000526\n",
       "4                  0.000712\n",
       "5                  0.000291\n",
       "6                  0.001035\n",
       "ads-google         0.009617\n",
       "ads-yahoo          0.002706\n",
       "ads_facebook       0.009366\n",
       "ads_other          0.002727\n",
       "direct_traffic     0.000484\n",
       "friend_referral    0.026270\n",
       "seo-bing           0.009138\n",
       "seo-google         0.005085\n",
       "seo-other          0.004241\n",
       "seo-yahoo          0.004772\n",
       "seo_facebook       0.004016\n",
       "unknown           -0.008282\n",
       "iOS                0.007262\n",
       "mac                0.013454\n",
       "unknown           -0.002424\n",
       "windows            0.006290\n",
       "web               -0.004371\n",
       "dtype: float64"
      ]
     },
     "execution_count": 128,
     "metadata": {},
     "output_type": "execute_result"
    }
   ],
   "source": [
    "results.params"
   ]
  },
  {
   "cell_type": "code",
   "execution_count": 129,
   "metadata": {},
   "outputs": [
    {
     "data": {
      "text/plain": [
       "const               6.492347\n",
       "test               -7.961936\n",
       "1                  -0.974489\n",
       "2                   0.114055\n",
       "3                   0.409525\n",
       "4                   0.621747\n",
       "5                   0.249455\n",
       "6                   0.856952\n",
       "ads-google          8.557175\n",
       "ads-yahoo           1.412652\n",
       "ads_facebook        8.206107\n",
       "ads_other           2.150695\n",
       "direct_traffic      0.431495\n",
       "friend_referral    18.970699\n",
       "seo-bing            2.813027\n",
       "seo-google          3.778618\n",
       "seo-other           2.385199\n",
       "seo-yahoo           2.402522\n",
       "seo_facebook        2.918752\n",
       "unknown            -1.008060\n",
       "iOS                10.316325\n",
       "mac                 4.995773\n",
       "unknown            -1.934668\n",
       "windows             2.443267\n",
       "web                -1.763419\n",
       "dtype: float64"
      ]
     },
     "execution_count": 129,
     "metadata": {},
     "output_type": "execute_result"
    }
   ],
   "source": [
    "results.tvalues"
   ]
  },
  {
   "cell_type": "code",
   "execution_count": 140,
   "metadata": {},
   "outputs": [
    {
     "data": {
      "text/html": [
       "<table class=\"simpletable\">\n",
       "<caption>OLS Regression Results</caption>\n",
       "<tr>\n",
       "  <th>Dep. Variable:</th>        <td>converted</td>    <th>  R-squared:         </th>  <td>   0.003</td> \n",
       "</tr>\n",
       "<tr>\n",
       "  <th>Model:</th>                   <td>OLS</td>       <th>  Adj. R-squared:    </th>  <td>   0.003</td> \n",
       "</tr>\n",
       "<tr>\n",
       "  <th>Method:</th>             <td>Least Squares</td>  <th>  F-statistic:       </th>  <td>   38.02</td> \n",
       "</tr>\n",
       "<tr>\n",
       "  <th>Date:</th>             <td>Thu, 25 Oct 2018</td> <th>  Prob (F-statistic):</th>  <td>6.63e-177</td>\n",
       "</tr>\n",
       "<tr>\n",
       "  <th>Time:</th>                 <td>23:17:15</td>     <th>  Log-Likelihood:    </th> <td>1.6137e+05</td>\n",
       "</tr>\n",
       "<tr>\n",
       "  <th>No. Observations:</th>      <td>271609</td>      <th>  AIC:               </th> <td>-3.227e+05</td>\n",
       "</tr>\n",
       "<tr>\n",
       "  <th>Df Residuals:</th>          <td>271584</td>      <th>  BIC:               </th> <td>-3.224e+05</td>\n",
       "</tr>\n",
       "<tr>\n",
       "  <th>Df Model:</th>              <td>    24</td>      <th>                     </th>      <td> </td>    \n",
       "</tr>\n",
       "<tr>\n",
       "  <th>Covariance Type:</th>      <td>nonrobust</td>    <th>                     </th>      <td> </td>    \n",
       "</tr>\n",
       "</table>\n",
       "<table class=\"simpletable\">\n",
       "<tr>\n",
       "         <td></td>            <th>coef</th>     <th>std err</th>      <th>t</th>      <th>P>|t|</th>  <th>[0.025</th>    <th>0.975]</th>  \n",
       "</tr>\n",
       "<tr>\n",
       "  <th>const</th>           <td>    0.0096</td> <td>    0.001</td> <td>    6.492</td> <td> 0.000</td> <td>    0.007</td> <td>    0.013</td>\n",
       "</tr>\n",
       "<tr>\n",
       "  <th>test</th>            <td>   -0.0043</td> <td>    0.001</td> <td>   -7.962</td> <td> 0.000</td> <td>   -0.005</td> <td>   -0.003</td>\n",
       "</tr>\n",
       "<tr>\n",
       "  <th>1</th>               <td>   -0.0014</td> <td>    0.001</td> <td>   -0.974</td> <td> 0.330</td> <td>   -0.004</td> <td>    0.001</td>\n",
       "</tr>\n",
       "<tr>\n",
       "  <th>2</th>               <td>    0.0002</td> <td>    0.001</td> <td>    0.114</td> <td> 0.909</td> <td>   -0.003</td> <td>    0.003</td>\n",
       "</tr>\n",
       "<tr>\n",
       "  <th>3</th>               <td>    0.0005</td> <td>    0.001</td> <td>    0.410</td> <td> 0.682</td> <td>   -0.002</td> <td>    0.003</td>\n",
       "</tr>\n",
       "<tr>\n",
       "  <th>4</th>               <td>    0.0007</td> <td>    0.001</td> <td>    0.622</td> <td> 0.534</td> <td>   -0.002</td> <td>    0.003</td>\n",
       "</tr>\n",
       "<tr>\n",
       "  <th>5</th>               <td>    0.0003</td> <td>    0.001</td> <td>    0.249</td> <td> 0.803</td> <td>   -0.002</td> <td>    0.003</td>\n",
       "</tr>\n",
       "<tr>\n",
       "  <th>6</th>               <td>    0.0010</td> <td>    0.001</td> <td>    0.857</td> <td> 0.391</td> <td>   -0.001</td> <td>    0.003</td>\n",
       "</tr>\n",
       "<tr>\n",
       "  <th>ads-google</th>      <td>    0.0096</td> <td>    0.001</td> <td>    8.557</td> <td> 0.000</td> <td>    0.007</td> <td>    0.012</td>\n",
       "</tr>\n",
       "<tr>\n",
       "  <th>ads-yahoo</th>       <td>    0.0027</td> <td>    0.002</td> <td>    1.413</td> <td> 0.158</td> <td>   -0.001</td> <td>    0.006</td>\n",
       "</tr>\n",
       "<tr>\n",
       "  <th>ads_facebook</th>    <td>    0.0094</td> <td>    0.001</td> <td>    8.206</td> <td> 0.000</td> <td>    0.007</td> <td>    0.012</td>\n",
       "</tr>\n",
       "<tr>\n",
       "  <th>ads_other</th>       <td>    0.0027</td> <td>    0.001</td> <td>    2.151</td> <td> 0.032</td> <td>    0.000</td> <td>    0.005</td>\n",
       "</tr>\n",
       "<tr>\n",
       "  <th>direct_traffic</th>  <td>    0.0005</td> <td>    0.001</td> <td>    0.431</td> <td> 0.666</td> <td>   -0.002</td> <td>    0.003</td>\n",
       "</tr>\n",
       "<tr>\n",
       "  <th>friend_referral</th> <td>    0.0263</td> <td>    0.001</td> <td>   18.971</td> <td> 0.000</td> <td>    0.024</td> <td>    0.029</td>\n",
       "</tr>\n",
       "<tr>\n",
       "  <th>seo-bing</th>        <td>    0.0091</td> <td>    0.003</td> <td>    2.813</td> <td> 0.005</td> <td>    0.003</td> <td>    0.016</td>\n",
       "</tr>\n",
       "<tr>\n",
       "  <th>seo-google</th>      <td>    0.0051</td> <td>    0.001</td> <td>    3.779</td> <td> 0.000</td> <td>    0.002</td> <td>    0.008</td>\n",
       "</tr>\n",
       "<tr>\n",
       "  <th>seo-other</th>       <td>    0.0042</td> <td>    0.002</td> <td>    2.385</td> <td> 0.017</td> <td>    0.001</td> <td>    0.008</td>\n",
       "</tr>\n",
       "<tr>\n",
       "  <th>seo-yahoo</th>       <td>    0.0048</td> <td>    0.002</td> <td>    2.403</td> <td> 0.016</td> <td>    0.001</td> <td>    0.009</td>\n",
       "</tr>\n",
       "<tr>\n",
       "  <th>seo_facebook</th>    <td>    0.0040</td> <td>    0.001</td> <td>    2.919</td> <td> 0.004</td> <td>    0.001</td> <td>    0.007</td>\n",
       "</tr>\n",
       "<tr>\n",
       "  <th>unknown</th>         <td>   -0.0083</td> <td>    0.008</td> <td>   -1.008</td> <td> 0.313</td> <td>   -0.024</td> <td>    0.008</td>\n",
       "</tr>\n",
       "<tr>\n",
       "  <th>iOS</th>             <td>    0.0073</td> <td>    0.001</td> <td>   10.316</td> <td> 0.000</td> <td>    0.006</td> <td>    0.009</td>\n",
       "</tr>\n",
       "<tr>\n",
       "  <th>mac</th>             <td>    0.0135</td> <td>    0.003</td> <td>    4.996</td> <td> 0.000</td> <td>    0.008</td> <td>    0.019</td>\n",
       "</tr>\n",
       "<tr>\n",
       "  <th>unknown</th>         <td>   -0.0024</td> <td>    0.001</td> <td>   -1.935</td> <td> 0.053</td> <td>   -0.005</td> <td> 3.17e-05</td>\n",
       "</tr>\n",
       "<tr>\n",
       "  <th>windows</th>         <td>    0.0063</td> <td>    0.003</td> <td>    2.443</td> <td> 0.015</td> <td>    0.001</td> <td>    0.011</td>\n",
       "</tr>\n",
       "<tr>\n",
       "  <th>web</th>             <td>   -0.0044</td> <td>    0.002</td> <td>   -1.763</td> <td> 0.078</td> <td>   -0.009</td> <td>    0.000</td>\n",
       "</tr>\n",
       "</table>\n",
       "<table class=\"simpletable\">\n",
       "<tr>\n",
       "  <th>Omnibus:</th>       <td>337815.212</td> <th>  Durbin-Watson:     </th>   <td>   1.997</td>  \n",
       "</tr>\n",
       "<tr>\n",
       "  <th>Prob(Omnibus):</th>   <td> 0.000</td>   <th>  Jarque-Bera (JB):  </th> <td>30084586.173</td>\n",
       "</tr>\n",
       "<tr>\n",
       "  <th>Skew:</th>            <td> 7.165</td>   <th>  Prob(JB):          </th>   <td>    0.00</td>  \n",
       "</tr>\n",
       "<tr>\n",
       "  <th>Kurtosis:</th>        <td>52.528</td>   <th>  Cond. No.          </th>   <td>    44.2</td>  \n",
       "</tr>\n",
       "</table><br/><br/>Warnings:<br/>[1] Standard Errors assume that the covariance matrix of the errors is correctly specified."
      ],
      "text/plain": [
       "<class 'statsmodels.iolib.summary.Summary'>\n",
       "\"\"\"\n",
       "                            OLS Regression Results                            \n",
       "==============================================================================\n",
       "Dep. Variable:              converted   R-squared:                       0.003\n",
       "Model:                            OLS   Adj. R-squared:                  0.003\n",
       "Method:                 Least Squares   F-statistic:                     38.02\n",
       "Date:                Thu, 25 Oct 2018   Prob (F-statistic):          6.63e-177\n",
       "Time:                        23:17:15   Log-Likelihood:             1.6137e+05\n",
       "No. Observations:              271609   AIC:                        -3.227e+05\n",
       "Df Residuals:                  271584   BIC:                        -3.224e+05\n",
       "Df Model:                          24                                         \n",
       "Covariance Type:            nonrobust                                         \n",
       "===================================================================================\n",
       "                      coef    std err          t      P>|t|      [0.025      0.975]\n",
       "-----------------------------------------------------------------------------------\n",
       "const               0.0096      0.001      6.492      0.000       0.007       0.013\n",
       "test               -0.0043      0.001     -7.962      0.000      -0.005      -0.003\n",
       "1                  -0.0014      0.001     -0.974      0.330      -0.004       0.001\n",
       "2                   0.0002      0.001      0.114      0.909      -0.003       0.003\n",
       "3                   0.0005      0.001      0.410      0.682      -0.002       0.003\n",
       "4                   0.0007      0.001      0.622      0.534      -0.002       0.003\n",
       "5                   0.0003      0.001      0.249      0.803      -0.002       0.003\n",
       "6                   0.0010      0.001      0.857      0.391      -0.001       0.003\n",
       "ads-google          0.0096      0.001      8.557      0.000       0.007       0.012\n",
       "ads-yahoo           0.0027      0.002      1.413      0.158      -0.001       0.006\n",
       "ads_facebook        0.0094      0.001      8.206      0.000       0.007       0.012\n",
       "ads_other           0.0027      0.001      2.151      0.032       0.000       0.005\n",
       "direct_traffic      0.0005      0.001      0.431      0.666      -0.002       0.003\n",
       "friend_referral     0.0263      0.001     18.971      0.000       0.024       0.029\n",
       "seo-bing            0.0091      0.003      2.813      0.005       0.003       0.016\n",
       "seo-google          0.0051      0.001      3.779      0.000       0.002       0.008\n",
       "seo-other           0.0042      0.002      2.385      0.017       0.001       0.008\n",
       "seo-yahoo           0.0048      0.002      2.403      0.016       0.001       0.009\n",
       "seo_facebook        0.0040      0.001      2.919      0.004       0.001       0.007\n",
       "unknown            -0.0083      0.008     -1.008      0.313      -0.024       0.008\n",
       "iOS                 0.0073      0.001     10.316      0.000       0.006       0.009\n",
       "mac                 0.0135      0.003      4.996      0.000       0.008       0.019\n",
       "unknown            -0.0024      0.001     -1.935      0.053      -0.005    3.17e-05\n",
       "windows             0.0063      0.003      2.443      0.015       0.001       0.011\n",
       "web                -0.0044      0.002     -1.763      0.078      -0.009       0.000\n",
       "==============================================================================\n",
       "Omnibus:                   337815.212   Durbin-Watson:                   1.997\n",
       "Prob(Omnibus):                  0.000   Jarque-Bera (JB):         30084586.173\n",
       "Skew:                           7.165   Prob(JB):                         0.00\n",
       "Kurtosis:                      52.528   Cond. No.                         44.2\n",
       "==============================================================================\n",
       "\n",
       "Warnings:\n",
       "[1] Standard Errors assume that the covariance matrix of the errors is correctly specified.\n",
       "\"\"\""
      ]
     },
     "execution_count": 140,
     "metadata": {},
     "output_type": "execute_result"
    }
   ],
   "source": [
    "results.summary()"
   ]
  },
  {
   "cell_type": "code",
   "execution_count": 200,
   "metadata": {},
   "outputs": [],
   "source": [
    "# Try fitting a logit?"
   ]
  },
  {
   "cell_type": "code",
   "execution_count": 142,
   "metadata": {},
   "outputs": [],
   "source": [
    "model = sm.Logit(y, fitdf)"
   ]
  },
  {
   "cell_type": "code",
   "execution_count": 143,
   "metadata": {},
   "outputs": [
    {
     "name": "stdout",
     "output_type": "stream",
     "text": [
      "Optimization terminated successfully.\n",
      "         Current function value: 0.089541\n",
      "         Iterations 10\n"
     ]
    }
   ],
   "source": [
    "results = model.fit()"
   ]
  },
  {
   "cell_type": "code",
   "execution_count": 144,
   "metadata": {},
   "outputs": [
    {
     "data": {
      "text/html": [
       "<table class=\"simpletable\">\n",
       "<caption>Logit Regression Results</caption>\n",
       "<tr>\n",
       "  <th>Dep. Variable:</th>     <td>converted</td>    <th>  No. Observations:  </th>   <td>271609</td>  \n",
       "</tr>\n",
       "<tr>\n",
       "  <th>Model:</th>               <td>Logit</td>      <th>  Df Residuals:      </th>   <td>271584</td>  \n",
       "</tr>\n",
       "<tr>\n",
       "  <th>Method:</th>               <td>MLE</td>       <th>  Df Model:          </th>   <td>    24</td>  \n",
       "</tr>\n",
       "<tr>\n",
       "  <th>Date:</th>          <td>Thu, 25 Oct 2018</td> <th>  Pseudo R-squ.:     </th>   <td>0.01702</td> \n",
       "</tr>\n",
       "<tr>\n",
       "  <th>Time:</th>              <td>23:23:09</td>     <th>  Log-Likelihood:    </th>  <td> -24320.</td> \n",
       "</tr>\n",
       "<tr>\n",
       "  <th>converged:</th>           <td>True</td>       <th>  LL-Null:           </th>  <td> -24741.</td> \n",
       "</tr>\n",
       "<tr>\n",
       "  <th> </th>                      <td> </td>        <th>  LLR p-value:       </th> <td>2.368e-162</td>\n",
       "</tr>\n",
       "</table>\n",
       "<table class=\"simpletable\">\n",
       "<tr>\n",
       "         <td></td>            <th>coef</th>     <th>std err</th>      <th>z</th>      <th>P>|z|</th>  <th>[0.025</th>    <th>0.975]</th>  \n",
       "</tr>\n",
       "<tr>\n",
       "  <th>const</th>           <td>   -4.5743</td> <td>    0.093</td> <td>  -49.189</td> <td> 0.000</td> <td>   -4.757</td> <td>   -4.392</td>\n",
       "</tr>\n",
       "<tr>\n",
       "  <th>test</th>            <td>   -0.2473</td> <td>    0.031</td> <td>   -7.930</td> <td> 0.000</td> <td>   -0.308</td> <td>   -0.186</td>\n",
       "</tr>\n",
       "<tr>\n",
       "  <th>1</th>               <td>   -0.0841</td> <td>    0.085</td> <td>   -0.992</td> <td> 0.321</td> <td>   -0.250</td> <td>    0.082</td>\n",
       "</tr>\n",
       "<tr>\n",
       "  <th>2</th>               <td>    0.0109</td> <td>    0.084</td> <td>    0.129</td> <td> 0.897</td> <td>   -0.154</td> <td>    0.175</td>\n",
       "</tr>\n",
       "<tr>\n",
       "  <th>3</th>               <td>    0.0290</td> <td>    0.072</td> <td>    0.400</td> <td> 0.689</td> <td>   -0.113</td> <td>    0.171</td>\n",
       "</tr>\n",
       "<tr>\n",
       "  <th>4</th>               <td>    0.0407</td> <td>    0.065</td> <td>    0.628</td> <td> 0.530</td> <td>   -0.086</td> <td>    0.168</td>\n",
       "</tr>\n",
       "<tr>\n",
       "  <th>5</th>               <td>    0.0168</td> <td>    0.066</td> <td>    0.254</td> <td> 0.799</td> <td>   -0.113</td> <td>    0.147</td>\n",
       "</tr>\n",
       "<tr>\n",
       "  <th>6</th>               <td>    0.0583</td> <td>    0.068</td> <td>    0.855</td> <td> 0.392</td> <td>   -0.075</td> <td>    0.192</td>\n",
       "</tr>\n",
       "<tr>\n",
       "  <th>ads-google</th>      <td>    0.6061</td> <td>    0.073</td> <td>    8.306</td> <td> 0.000</td> <td>    0.463</td> <td>    0.749</td>\n",
       "</tr>\n",
       "<tr>\n",
       "  <th>ads-yahoo</th>       <td>    0.2097</td> <td>    0.123</td> <td>    1.702</td> <td> 0.089</td> <td>   -0.032</td> <td>    0.451</td>\n",
       "</tr>\n",
       "<tr>\n",
       "  <th>ads_facebook</th>    <td>    0.5940</td> <td>    0.074</td> <td>    8.053</td> <td> 0.000</td> <td>    0.449</td> <td>    0.739</td>\n",
       "</tr>\n",
       "<tr>\n",
       "  <th>ads_other</th>       <td>    0.2112</td> <td>    0.084</td> <td>    2.505</td> <td> 0.012</td> <td>    0.046</td> <td>    0.376</td>\n",
       "</tr>\n",
       "<tr>\n",
       "  <th>direct_traffic</th>  <td>    0.0402</td> <td>    0.077</td> <td>    0.521</td> <td> 0.603</td> <td>   -0.111</td> <td>    0.192</td>\n",
       "</tr>\n",
       "<tr>\n",
       "  <th>friend_referral</th> <td>    1.1984</td> <td>    0.077</td> <td>   15.568</td> <td> 0.000</td> <td>    1.047</td> <td>    1.349</td>\n",
       "</tr>\n",
       "<tr>\n",
       "  <th>seo-bing</th>        <td>    0.5813</td> <td>    0.175</td> <td>    3.323</td> <td> 0.001</td> <td>    0.238</td> <td>    0.924</td>\n",
       "</tr>\n",
       "<tr>\n",
       "  <th>seo-google</th>      <td>    0.3644</td> <td>    0.086</td> <td>    4.232</td> <td> 0.000</td> <td>    0.196</td> <td>    0.533</td>\n",
       "</tr>\n",
       "<tr>\n",
       "  <th>seo-other</th>       <td>    0.3113</td> <td>    0.111</td> <td>    2.796</td> <td> 0.005</td> <td>    0.093</td> <td>    0.529</td>\n",
       "</tr>\n",
       "<tr>\n",
       "  <th>seo-yahoo</th>       <td>    0.3436</td> <td>    0.122</td> <td>    2.817</td> <td> 0.005</td> <td>    0.105</td> <td>    0.583</td>\n",
       "</tr>\n",
       "<tr>\n",
       "  <th>seo_facebook</th>    <td>    0.2967</td> <td>    0.089</td> <td>    3.329</td> <td> 0.001</td> <td>    0.122</td> <td>    0.471</td>\n",
       "</tr>\n",
       "<tr>\n",
       "  <th>unknown</th>         <td>   -1.1715</td> <td>    1.004</td> <td>   -1.167</td> <td> 0.243</td> <td>   -3.140</td> <td>    0.797</td>\n",
       "</tr>\n",
       "<tr>\n",
       "  <th>iOS</th>             <td>    0.4045</td> <td>    0.040</td> <td>   10.038</td> <td> 0.000</td> <td>    0.326</td> <td>    0.483</td>\n",
       "</tr>\n",
       "<tr>\n",
       "  <th>mac</th>             <td>    0.8901</td> <td>    0.204</td> <td>    4.364</td> <td> 0.000</td> <td>    0.490</td> <td>    1.290</td>\n",
       "</tr>\n",
       "<tr>\n",
       "  <th>unknown</th>         <td>   -0.1840</td> <td>    0.084</td> <td>   -2.194</td> <td> 0.028</td> <td>   -0.348</td> <td>   -0.020</td>\n",
       "</tr>\n",
       "<tr>\n",
       "  <th>windows</th>         <td>    0.5290</td> <td>    0.201</td> <td>    2.634</td> <td> 0.008</td> <td>    0.135</td> <td>    0.923</td>\n",
       "</tr>\n",
       "<tr>\n",
       "  <th>web</th>             <td>   -0.4057</td> <td>    0.196</td> <td>   -2.066</td> <td> 0.039</td> <td>   -0.791</td> <td>   -0.021</td>\n",
       "</tr>\n",
       "</table>"
      ],
      "text/plain": [
       "<class 'statsmodels.iolib.summary.Summary'>\n",
       "\"\"\"\n",
       "                           Logit Regression Results                           \n",
       "==============================================================================\n",
       "Dep. Variable:              converted   No. Observations:               271609\n",
       "Model:                          Logit   Df Residuals:                   271584\n",
       "Method:                           MLE   Df Model:                           24\n",
       "Date:                Thu, 25 Oct 2018   Pseudo R-squ.:                 0.01702\n",
       "Time:                        23:23:09   Log-Likelihood:                -24320.\n",
       "converged:                       True   LL-Null:                       -24741.\n",
       "                                        LLR p-value:                2.368e-162\n",
       "===================================================================================\n",
       "                      coef    std err          z      P>|z|      [0.025      0.975]\n",
       "-----------------------------------------------------------------------------------\n",
       "const              -4.5743      0.093    -49.189      0.000      -4.757      -4.392\n",
       "test               -0.2473      0.031     -7.930      0.000      -0.308      -0.186\n",
       "1                  -0.0841      0.085     -0.992      0.321      -0.250       0.082\n",
       "2                   0.0109      0.084      0.129      0.897      -0.154       0.175\n",
       "3                   0.0290      0.072      0.400      0.689      -0.113       0.171\n",
       "4                   0.0407      0.065      0.628      0.530      -0.086       0.168\n",
       "5                   0.0168      0.066      0.254      0.799      -0.113       0.147\n",
       "6                   0.0583      0.068      0.855      0.392      -0.075       0.192\n",
       "ads-google          0.6061      0.073      8.306      0.000       0.463       0.749\n",
       "ads-yahoo           0.2097      0.123      1.702      0.089      -0.032       0.451\n",
       "ads_facebook        0.5940      0.074      8.053      0.000       0.449       0.739\n",
       "ads_other           0.2112      0.084      2.505      0.012       0.046       0.376\n",
       "direct_traffic      0.0402      0.077      0.521      0.603      -0.111       0.192\n",
       "friend_referral     1.1984      0.077     15.568      0.000       1.047       1.349\n",
       "seo-bing            0.5813      0.175      3.323      0.001       0.238       0.924\n",
       "seo-google          0.3644      0.086      4.232      0.000       0.196       0.533\n",
       "seo-other           0.3113      0.111      2.796      0.005       0.093       0.529\n",
       "seo-yahoo           0.3436      0.122      2.817      0.005       0.105       0.583\n",
       "seo_facebook        0.2967      0.089      3.329      0.001       0.122       0.471\n",
       "unknown            -1.1715      1.004     -1.167      0.243      -3.140       0.797\n",
       "iOS                 0.4045      0.040     10.038      0.000       0.326       0.483\n",
       "mac                 0.8901      0.204      4.364      0.000       0.490       1.290\n",
       "unknown            -0.1840      0.084     -2.194      0.028      -0.348      -0.020\n",
       "windows             0.5290      0.201      2.634      0.008       0.135       0.923\n",
       "web                -0.4057      0.196     -2.066      0.039      -0.791      -0.021\n",
       "===================================================================================\n",
       "\"\"\""
      ]
     },
     "execution_count": 144,
     "metadata": {},
     "output_type": "execute_result"
    }
   ],
   "source": [
    "results.summary()"
   ]
  },
  {
   "cell_type": "code",
   "execution_count": 201,
   "metadata": {},
   "outputs": [],
   "source": [
    "# Weighted least squares to account for class imbalance between treat/test groups\n",
    "# give it approximate 2:1 weight by adjusting test variable"
   ]
  },
  {
   "cell_type": "code",
   "execution_count": 161,
   "metadata": {},
   "outputs": [],
   "source": [
    "logmodel=sm.WLS(y, fitdf, weights=fitdf['test'] + 1, \n",
    "                family=sm.families.Binomial(sm.families.links.logit)).fit()\n"
   ]
  },
  {
   "cell_type": "code",
   "execution_count": 162,
   "metadata": {},
   "outputs": [
    {
     "data": {
      "text/html": [
       "<table class=\"simpletable\">\n",
       "<caption>WLS Regression Results</caption>\n",
       "<tr>\n",
       "  <th>Dep. Variable:</th>        <td>converted</td>    <th>  R-squared:         </th>  <td>   0.003</td> \n",
       "</tr>\n",
       "<tr>\n",
       "  <th>Model:</th>                   <td>WLS</td>       <th>  Adj. R-squared:    </th>  <td>   0.003</td> \n",
       "</tr>\n",
       "<tr>\n",
       "  <th>Method:</th>             <td>Least Squares</td>  <th>  F-statistic:       </th>  <td>   38.10</td> \n",
       "</tr>\n",
       "<tr>\n",
       "  <th>Date:</th>             <td>Thu, 25 Oct 2018</td> <th>  Prob (F-statistic):</th>  <td>2.79e-177</td>\n",
       "</tr>\n",
       "<tr>\n",
       "  <th>Time:</th>                 <td>23:50:14</td>     <th>  Log-Likelihood:    </th> <td>1.5897e+05</td>\n",
       "</tr>\n",
       "<tr>\n",
       "  <th>No. Observations:</th>      <td>271609</td>      <th>  AIC:               </th> <td>-3.179e+05</td>\n",
       "</tr>\n",
       "<tr>\n",
       "  <th>Df Residuals:</th>          <td>271584</td>      <th>  BIC:               </th> <td>-3.176e+05</td>\n",
       "</tr>\n",
       "<tr>\n",
       "  <th>Df Model:</th>              <td>    24</td>      <th>                     </th>      <td> </td>    \n",
       "</tr>\n",
       "<tr>\n",
       "  <th>Covariance Type:</th>      <td>nonrobust</td>    <th>                     </th>      <td> </td>    \n",
       "</tr>\n",
       "</table>\n",
       "<table class=\"simpletable\">\n",
       "<tr>\n",
       "         <td></td>            <th>coef</th>     <th>std err</th>      <th>t</th>      <th>P>|t|</th>  <th>[0.025</th>    <th>0.975]</th>  \n",
       "</tr>\n",
       "<tr>\n",
       "  <th>const</th>           <td>    0.0095</td> <td>    0.001</td> <td>    6.483</td> <td> 0.000</td> <td>    0.007</td> <td>    0.012</td>\n",
       "</tr>\n",
       "<tr>\n",
       "  <th>test</th>            <td>   -0.0042</td> <td>    0.001</td> <td>   -8.403</td> <td> 0.000</td> <td>   -0.005</td> <td>   -0.003</td>\n",
       "</tr>\n",
       "<tr>\n",
       "  <th>1</th>               <td>   -0.0012</td> <td>    0.001</td> <td>   -0.804</td> <td> 0.421</td> <td>   -0.004</td> <td>    0.002</td>\n",
       "</tr>\n",
       "<tr>\n",
       "  <th>2</th>               <td>-3.262e-05</td> <td>    0.001</td> <td>   -0.023</td> <td> 0.982</td> <td>   -0.003</td> <td>    0.003</td>\n",
       "</tr>\n",
       "<tr>\n",
       "  <th>3</th>               <td>    0.0009</td> <td>    0.001</td> <td>    0.731</td> <td> 0.465</td> <td>   -0.002</td> <td>    0.003</td>\n",
       "</tr>\n",
       "<tr>\n",
       "  <th>4</th>               <td>    0.0012</td> <td>    0.001</td> <td>    1.097</td> <td> 0.273</td> <td>   -0.001</td> <td>    0.003</td>\n",
       "</tr>\n",
       "<tr>\n",
       "  <th>5</th>               <td>    0.0011</td> <td>    0.001</td> <td>    0.963</td> <td> 0.336</td> <td>   -0.001</td> <td>    0.003</td>\n",
       "</tr>\n",
       "<tr>\n",
       "  <th>6</th>               <td>    0.0011</td> <td>    0.001</td> <td>    0.913</td> <td> 0.361</td> <td>   -0.001</td> <td>    0.003</td>\n",
       "</tr>\n",
       "<tr>\n",
       "  <th>ads-google</th>      <td>    0.0097</td> <td>    0.001</td> <td>    8.853</td> <td> 0.000</td> <td>    0.008</td> <td>    0.012</td>\n",
       "</tr>\n",
       "<tr>\n",
       "  <th>ads-yahoo</th>       <td>    0.0029</td> <td>    0.002</td> <td>    1.523</td> <td> 0.128</td> <td>   -0.001</td> <td>    0.007</td>\n",
       "</tr>\n",
       "<tr>\n",
       "  <th>ads_facebook</th>    <td>    0.0089</td> <td>    0.001</td> <td>    7.937</td> <td> 0.000</td> <td>    0.007</td> <td>    0.011</td>\n",
       "</tr>\n",
       "<tr>\n",
       "  <th>ads_other</th>       <td>    0.0030</td> <td>    0.001</td> <td>    2.410</td> <td> 0.016</td> <td>    0.001</td> <td>    0.005</td>\n",
       "</tr>\n",
       "<tr>\n",
       "  <th>direct_traffic</th>  <td>    0.0005</td> <td>    0.001</td> <td>    0.445</td> <td> 0.656</td> <td>   -0.002</td> <td>    0.003</td>\n",
       "</tr>\n",
       "<tr>\n",
       "  <th>friend_referral</th> <td>    0.0253</td> <td>    0.001</td> <td>   18.678</td> <td> 0.000</td> <td>    0.023</td> <td>    0.028</td>\n",
       "</tr>\n",
       "<tr>\n",
       "  <th>seo-bing</th>        <td>    0.0071</td> <td>    0.003</td> <td>    2.255</td> <td> 0.024</td> <td>    0.001</td> <td>    0.013</td>\n",
       "</tr>\n",
       "<tr>\n",
       "  <th>seo-google</th>      <td>    0.0054</td> <td>    0.001</td> <td>    4.089</td> <td> 0.000</td> <td>    0.003</td> <td>    0.008</td>\n",
       "</tr>\n",
       "<tr>\n",
       "  <th>seo-other</th>       <td>    0.0039</td> <td>    0.002</td> <td>    2.263</td> <td> 0.024</td> <td>    0.001</td> <td>    0.007</td>\n",
       "</tr>\n",
       "<tr>\n",
       "  <th>seo-yahoo</th>       <td>    0.0040</td> <td>    0.002</td> <td>    2.030</td> <td> 0.042</td> <td>    0.000</td> <td>    0.008</td>\n",
       "</tr>\n",
       "<tr>\n",
       "  <th>seo_facebook</th>    <td>    0.0041</td> <td>    0.001</td> <td>    3.053</td> <td> 0.002</td> <td>    0.001</td> <td>    0.007</td>\n",
       "</tr>\n",
       "<tr>\n",
       "  <th>unknown</th>         <td>   -0.0059</td> <td>    0.008</td> <td>   -0.733</td> <td> 0.464</td> <td>   -0.022</td> <td>    0.010</td>\n",
       "</tr>\n",
       "<tr>\n",
       "  <th>iOS</th>             <td>    0.0072</td> <td>    0.001</td> <td>   10.441</td> <td> 0.000</td> <td>    0.006</td> <td>    0.009</td>\n",
       "</tr>\n",
       "<tr>\n",
       "  <th>mac</th>             <td>    0.0153</td> <td>    0.003</td> <td>    5.942</td> <td> 0.000</td> <td>    0.010</td> <td>    0.020</td>\n",
       "</tr>\n",
       "<tr>\n",
       "  <th>unknown</th>         <td>   -0.0023</td> <td>    0.001</td> <td>   -1.896</td> <td> 0.058</td> <td>   -0.005</td> <td> 7.86e-05</td>\n",
       "</tr>\n",
       "<tr>\n",
       "  <th>windows</th>         <td>    0.0085</td> <td>    0.002</td> <td>    3.445</td> <td> 0.001</td> <td>    0.004</td> <td>    0.013</td>\n",
       "</tr>\n",
       "<tr>\n",
       "  <th>web</th>             <td>   -0.0068</td> <td>    0.002</td> <td>   -2.893</td> <td> 0.004</td> <td>   -0.011</td> <td>   -0.002</td>\n",
       "</tr>\n",
       "</table>\n",
       "<table class=\"simpletable\">\n",
       "<tr>\n",
       "  <th>Omnibus:</th>       <td>348926.604</td> <th>  Durbin-Watson:     </th>   <td>   1.998</td>  \n",
       "</tr>\n",
       "<tr>\n",
       "  <th>Prob(Omnibus):</th>   <td> 0.000</td>   <th>  Jarque-Bera (JB):  </th> <td>38436245.975</td>\n",
       "</tr>\n",
       "<tr>\n",
       "  <th>Skew:</th>            <td> 7.503</td>   <th>  Prob(JB):          </th>   <td>    0.00</td>  \n",
       "</tr>\n",
       "<tr>\n",
       "  <th>Kurtosis:</th>        <td>59.313</td>   <th>  Cond. No.          </th>   <td>    46.0</td>  \n",
       "</tr>\n",
       "</table><br/><br/>Warnings:<br/>[1] Standard Errors assume that the covariance matrix of the errors is correctly specified."
      ],
      "text/plain": [
       "<class 'statsmodels.iolib.summary.Summary'>\n",
       "\"\"\"\n",
       "                            WLS Regression Results                            \n",
       "==============================================================================\n",
       "Dep. Variable:              converted   R-squared:                       0.003\n",
       "Model:                            WLS   Adj. R-squared:                  0.003\n",
       "Method:                 Least Squares   F-statistic:                     38.10\n",
       "Date:                Thu, 25 Oct 2018   Prob (F-statistic):          2.79e-177\n",
       "Time:                        23:50:14   Log-Likelihood:             1.5897e+05\n",
       "No. Observations:              271609   AIC:                        -3.179e+05\n",
       "Df Residuals:                  271584   BIC:                        -3.176e+05\n",
       "Df Model:                          24                                         \n",
       "Covariance Type:            nonrobust                                         \n",
       "===================================================================================\n",
       "                      coef    std err          t      P>|t|      [0.025      0.975]\n",
       "-----------------------------------------------------------------------------------\n",
       "const               0.0095      0.001      6.483      0.000       0.007       0.012\n",
       "test               -0.0042      0.001     -8.403      0.000      -0.005      -0.003\n",
       "1                  -0.0012      0.001     -0.804      0.421      -0.004       0.002\n",
       "2               -3.262e-05      0.001     -0.023      0.982      -0.003       0.003\n",
       "3                   0.0009      0.001      0.731      0.465      -0.002       0.003\n",
       "4                   0.0012      0.001      1.097      0.273      -0.001       0.003\n",
       "5                   0.0011      0.001      0.963      0.336      -0.001       0.003\n",
       "6                   0.0011      0.001      0.913      0.361      -0.001       0.003\n",
       "ads-google          0.0097      0.001      8.853      0.000       0.008       0.012\n",
       "ads-yahoo           0.0029      0.002      1.523      0.128      -0.001       0.007\n",
       "ads_facebook        0.0089      0.001      7.937      0.000       0.007       0.011\n",
       "ads_other           0.0030      0.001      2.410      0.016       0.001       0.005\n",
       "direct_traffic      0.0005      0.001      0.445      0.656      -0.002       0.003\n",
       "friend_referral     0.0253      0.001     18.678      0.000       0.023       0.028\n",
       "seo-bing            0.0071      0.003      2.255      0.024       0.001       0.013\n",
       "seo-google          0.0054      0.001      4.089      0.000       0.003       0.008\n",
       "seo-other           0.0039      0.002      2.263      0.024       0.001       0.007\n",
       "seo-yahoo           0.0040      0.002      2.030      0.042       0.000       0.008\n",
       "seo_facebook        0.0041      0.001      3.053      0.002       0.001       0.007\n",
       "unknown            -0.0059      0.008     -0.733      0.464      -0.022       0.010\n",
       "iOS                 0.0072      0.001     10.441      0.000       0.006       0.009\n",
       "mac                 0.0153      0.003      5.942      0.000       0.010       0.020\n",
       "unknown            -0.0023      0.001     -1.896      0.058      -0.005    7.86e-05\n",
       "windows             0.0085      0.002      3.445      0.001       0.004       0.013\n",
       "web                -0.0068      0.002     -2.893      0.004      -0.011      -0.002\n",
       "==============================================================================\n",
       "Omnibus:                   348926.604   Durbin-Watson:                   1.998\n",
       "Prob(Omnibus):                  0.000   Jarque-Bera (JB):         38436245.975\n",
       "Skew:                           7.503   Prob(JB):                         0.00\n",
       "Kurtosis:                      59.313   Cond. No.                         46.0\n",
       "==============================================================================\n",
       "\n",
       "Warnings:\n",
       "[1] Standard Errors assume that the covariance matrix of the errors is correctly specified.\n",
       "\"\"\""
      ]
     },
     "execution_count": 162,
     "metadata": {},
     "output_type": "execute_result"
    }
   ],
   "source": [
    "logmodel.summary()"
   ]
  },
  {
   "cell_type": "markdown",
   "metadata": {},
   "source": [
    "## Run a power calculation: how many N did I really need to show my difference in means was significant? (Based on the magnitude of effect I found this time). "
   ]
  },
  {
   "cell_type": "code",
   "execution_count": 165,
   "metadata": {},
   "outputs": [
    {
     "data": {
      "text/plain": [
       "97683"
      ]
     },
     "execution_count": 165,
     "metadata": {},
     "output_type": "execute_result"
    }
   ],
   "source": [
    "len(newdf[newdf['test'] == 1])"
   ]
  },
  {
   "cell_type": "code",
   "execution_count": 166,
   "metadata": {},
   "outputs": [
    {
     "data": {
      "text/plain": [
       "271609"
      ]
     },
     "execution_count": 166,
     "metadata": {},
     "output_type": "execute_result"
    }
   ],
   "source": [
    "len(newdf)"
   ]
  },
  {
   "cell_type": "code",
   "execution_count": 178,
   "metadata": {},
   "outputs": [
    {
     "data": {
      "text/plain": [
       "0.017903295254870392"
      ]
     },
     "execution_count": 178,
     "metadata": {},
     "output_type": "execute_result"
    }
   ],
   "source": [
    "# variance of the sample mean\n",
    "from statistics import stdev\n",
    "sigmasq = stdev(newdf.converted)**2\n",
    "sigmasq"
   ]
  },
  {
   "cell_type": "code",
   "execution_count": 179,
   "metadata": {},
   "outputs": [
    {
     "data": {
      "text/plain": [
       "0.006000000000000002"
      ]
     },
     "execution_count": 179,
     "metadata": {},
     "output_type": "execute_result"
    }
   ],
   "source": [
    "# difference in the sample means from treatment and control I just got\n",
    "# cumulative conversion rates\n",
    "diffofmeans = .021-0.015\n",
    "diffofmeans"
   ]
  },
  {
   "cell_type": "code",
   "execution_count": 182,
   "metadata": {},
   "outputs": [],
   "source": [
    "# If I want to be able to put 2 std deviations between my sample means:"
   ]
  },
  {
   "cell_type": "code",
   "execution_count": 183,
   "metadata": {},
   "outputs": [],
   "source": [
    "n = sigmasq/(diffofmeans/2)**2"
   ]
  },
  {
   "cell_type": "code",
   "execution_count": 184,
   "metadata": {},
   "outputs": [
    {
     "data": {
      "text/plain": [
       "1989.2550283189312"
      ]
     },
     "execution_count": 184,
     "metadata": {},
     "output_type": "execute_result"
    }
   ],
   "source": [
    "# number of treated units I need to ensure I can measure a significant difference between sample means\n",
    "# I only needed about 2000 points (in test group). I had 100000. I had 50 times what I needed.\n",
    "n"
   ]
  },
  {
   "cell_type": "code",
   "execution_count": 186,
   "metadata": {},
   "outputs": [
    {
     "data": {
      "text/plain": [
       "97683"
      ]
     },
     "execution_count": 186,
     "metadata": {},
     "output_type": "execute_result"
    }
   ],
   "source": [
    "len(newdf[newdf['test']==1])"
   ]
  },
  {
   "cell_type": "markdown",
   "metadata": {},
   "source": [
    "## What does my t stat look like on today's difference of means? "
   ]
  },
  {
   "cell_type": "code",
   "execution_count": 192,
   "metadata": {},
   "outputs": [],
   "source": [
    "s0 = stdev(newdf[newdf['test']==0]['converted']**2)\n",
    "s1 = stdev(newdf[newdf['test']==1]['converted']**2)\n",
    "n0 = len(newdf[newdf['test']==0])\n",
    "n1 = len(newdf[newdf['test']==1])"
   ]
  },
  {
   "cell_type": "code",
   "execution_count": 193,
   "metadata": {},
   "outputs": [],
   "source": [
    "t = diffofmeans/sqrt((s0/n0)+(s1/n1))"
   ]
  },
  {
   "cell_type": "code",
   "execution_count": 194,
   "metadata": {},
   "outputs": [
    {
     "data": {
      "text/plain": [
       "4.176210642981103"
      ]
     },
     "execution_count": 194,
     "metadata": {},
     "output_type": "execute_result"
    }
   ],
   "source": [
    "t"
   ]
  },
  {
   "cell_type": "code",
   "execution_count": 204,
   "metadata": {},
   "outputs": [],
   "source": [
    "# Yep. Those means are different. "
   ]
  },
  {
   "cell_type": "code",
   "execution_count": null,
   "metadata": {},
   "outputs": [],
   "source": []
  }
 ],
 "metadata": {
  "kernelspec": {
   "display_name": "Python [conda env:insight]",
   "language": "python",
   "name": "conda-env-insight-py"
  },
  "language_info": {
   "codemirror_mode": {
    "name": "ipython",
    "version": 3
   },
   "file_extension": ".py",
   "mimetype": "text/x-python",
   "name": "python",
   "nbconvert_exporter": "python",
   "pygments_lexer": "ipython3",
   "version": "3.6.6"
  }
 },
 "nbformat": 4,
 "nbformat_minor": 2
}
