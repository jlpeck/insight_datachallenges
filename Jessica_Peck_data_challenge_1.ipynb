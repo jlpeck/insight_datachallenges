{
 "cells": [
  {
   "cell_type": "markdown",
   "metadata": {
    "slideshow": {
     "slide_type": "slide"
    }
   },
   "source": [
    "# Recipe 2 Cuisine\n",
    "## Code Challenge, Jessica Peck, October 12, 2018 \n",
    "\n",
    "You’ve just joined the data team at an online publishing company. One of your verticals is a food publication. A product manager on your team wants to build a feature for this vertical that enables users to query by cuisine, not just by ingredients. Most of your recipes are unlabeled, and it’s infeasible to label them by hand. Luckily, you have a small training set of 10,000 recipes with labeled cuisines. "
   ]
  },
  {
   "cell_type": "markdown",
   "metadata": {
    "slideshow": {
     "slide_type": "subslide"
    }
   },
   "source": [
    "### 1. Design and execute a method to predict the cuisine of a recipe given only its ingredients."
   ]
  },
  {
   "cell_type": "code",
   "execution_count": 59,
   "metadata": {
    "slideshow": {
     "slide_type": "subslide"
    }
   },
   "outputs": [
    {
     "name": "stdout",
     "output_type": "stream",
     "text": [
      "Populating the interactive namespace from numpy and matplotlib\n"
     ]
    }
   ],
   "source": [
    "import pandas as pd\n",
    "import matplotlib\n",
    "import numpy as np\n",
    "import seaborn as sns\n",
    "import json\n",
    "\n",
    "from sklearn.feature_extraction.text import CountVectorizer\n",
    "from sklearn.naive_bayes import MultinomialNB\n",
    "from sklearn.model_selection import train_test_split\n",
    "from sklearn.linear_model import SGDClassifier\n",
    "from sklearn.metrics import confusion_matrix\n",
    "from sklearn.ensemble import RandomForestClassifier\n",
    "from sklearn.datasets import make_classification\n",
    "\n",
    "import missingno as msno\n",
    "\n",
    "%pylab inline\n",
    "\n",
    "pd.set_option('display.max_columns', 500)\n",
    "pd.set_option('display.max_rows', 500)\n",
    "pd.set_option('max_colwidth',500)    "
   ]
  },
  {
   "cell_type": "code",
   "execution_count": 2,
   "metadata": {
    "slideshow": {
     "slide_type": "fragment"
    }
   },
   "outputs": [],
   "source": [
    "# read in json data\n",
    "with open('../recipies.json') as cuisine_intake_file:\n",
    "    data = json.load(cuisine_intake_file)"
   ]
  },
  {
   "cell_type": "code",
   "execution_count": 3,
   "metadata": {
    "slideshow": {
     "slide_type": "fragment"
    }
   },
   "outputs": [
    {
     "data": {
      "text/plain": [
       "39774"
      ]
     },
     "execution_count": 3,
     "metadata": {},
     "output_type": "execute_result"
    }
   ],
   "source": [
    "# how much? why ~40k and not the 10k promised?\n",
    "len(data)"
   ]
  },
  {
   "cell_type": "code",
   "execution_count": 4,
   "metadata": {
    "slideshow": {
     "slide_type": "fragment"
    }
   },
   "outputs": [
    {
     "data": {
      "text/plain": [
       "{'id': 10259,\n",
       " 'cuisine': 'greek',\n",
       " 'ingredients': ['romaine lettuce',\n",
       "  'black olives',\n",
       "  'grape tomatoes',\n",
       "  'garlic',\n",
       "  'pepper',\n",
       "  'purple onion',\n",
       "  'seasoning',\n",
       "  'garbanzo beans',\n",
       "  'feta cheese crumbles']}"
      ]
     },
     "execution_count": 4,
     "metadata": {},
     "output_type": "execute_result"
    }
   ],
   "source": [
    "# what format? what does it look like?\n",
    "data[0]"
   ]
  },
  {
   "cell_type": "code",
   "execution_count": 5,
   "metadata": {
    "slideshow": {
     "slide_type": "fragment"
    }
   },
   "outputs": [],
   "source": [
    "# convert to pandas dataframe\n",
    "recipedf = pd.DataFrame(data)"
   ]
  },
  {
   "cell_type": "code",
   "execution_count": 6,
   "metadata": {
    "slideshow": {
     "slide_type": "fragment"
    }
   },
   "outputs": [
    {
     "data": {
      "text/html": [
       "<div>\n",
       "<style scoped>\n",
       "    .dataframe tbody tr th:only-of-type {\n",
       "        vertical-align: middle;\n",
       "    }\n",
       "\n",
       "    .dataframe tbody tr th {\n",
       "        vertical-align: top;\n",
       "    }\n",
       "\n",
       "    .dataframe thead th {\n",
       "        text-align: right;\n",
       "    }\n",
       "</style>\n",
       "<table border=\"1\" class=\"dataframe\">\n",
       "  <thead>\n",
       "    <tr style=\"text-align: right;\">\n",
       "      <th></th>\n",
       "      <th>cuisine</th>\n",
       "      <th>id</th>\n",
       "      <th>ingredients</th>\n",
       "    </tr>\n",
       "  </thead>\n",
       "  <tbody>\n",
       "    <tr>\n",
       "      <th>0</th>\n",
       "      <td>greek</td>\n",
       "      <td>10259</td>\n",
       "      <td>[romaine lettuce, black olives, grape tomatoes, garlic, pepper, purple onion, seasoning, garbanzo beans, feta cheese crumbles]</td>\n",
       "    </tr>\n",
       "    <tr>\n",
       "      <th>1</th>\n",
       "      <td>southern_us</td>\n",
       "      <td>25693</td>\n",
       "      <td>[plain flour, ground pepper, salt, tomatoes, ground black pepper, thyme, eggs, green tomatoes, yellow corn meal, milk, vegetable oil]</td>\n",
       "    </tr>\n",
       "  </tbody>\n",
       "</table>\n",
       "</div>"
      ],
      "text/plain": [
       "       cuisine     id  \\\n",
       "0        greek  10259   \n",
       "1  southern_us  25693   \n",
       "\n",
       "                                                                                                                             ingredients  \n",
       "0         [romaine lettuce, black olives, grape tomatoes, garlic, pepper, purple onion, seasoning, garbanzo beans, feta cheese crumbles]  \n",
       "1  [plain flour, ground pepper, salt, tomatoes, ground black pepper, thyme, eggs, green tomatoes, yellow corn meal, milk, vegetable oil]  "
      ]
     },
     "execution_count": 6,
     "metadata": {},
     "output_type": "execute_result"
    }
   ],
   "source": [
    "# how did that conversion go?\n",
    "recipedf.head(2)"
   ]
  },
  {
   "cell_type": "code",
   "execution_count": 7,
   "metadata": {
    "slideshow": {
     "slide_type": "subslide"
    }
   },
   "outputs": [
    {
     "data": {
      "text/plain": [
       "cuisine        object\n",
       "id              int64\n",
       "ingredients    object\n",
       "dtype: object"
      ]
     },
     "execution_count": 7,
     "metadata": {},
     "output_type": "execute_result"
    }
   ],
   "source": [
    "# what types are these variables?\n",
    "recipedf.dtypes"
   ]
  },
  {
   "cell_type": "code",
   "execution_count": 8,
   "metadata": {
    "slideshow": {
     "slide_type": "fragment"
    }
   },
   "outputs": [
    {
     "data": {
      "text/plain": [
       "list"
      ]
     },
     "execution_count": 8,
     "metadata": {},
     "output_type": "execute_result"
    }
   ],
   "source": [
    "# yeah, but what is it really?\n",
    "type(recipedf.ingredients[0])"
   ]
  },
  {
   "cell_type": "code",
   "execution_count": 9,
   "metadata": {
    "slideshow": {
     "slide_type": "fragment"
    }
   },
   "outputs": [
    {
     "data": {
      "text/plain": [
       "str"
      ]
     },
     "execution_count": 9,
     "metadata": {},
     "output_type": "execute_result"
    }
   ],
   "source": [
    "type(recipedf.cuisine[0])"
   ]
  },
  {
   "cell_type": "code",
   "execution_count": 10,
   "metadata": {
    "slideshow": {
     "slide_type": "subslide"
    }
   },
   "outputs": [
    {
     "data": {
      "text/plain": [
       "array(['greek', 'southern_us', 'filipino', 'indian', 'jamaican',\n",
       "       'spanish', 'italian', 'mexican', 'chinese', 'british', 'thai',\n",
       "       'vietnamese', 'cajun_creole', 'brazilian', 'french', 'japanese',\n",
       "       'irish', 'korean', 'moroccan', 'russian'], dtype=object)"
      ]
     },
     "execution_count": 10,
     "metadata": {},
     "output_type": "execute_result"
    }
   ],
   "source": [
    "# what are the cuisines available?\n",
    "recipedf.cuisine.unique()"
   ]
  },
  {
   "cell_type": "code",
   "execution_count": 11,
   "metadata": {
    "slideshow": {
     "slide_type": "fragment"
    }
   },
   "outputs": [
    {
     "data": {
      "text/plain": [
       "0"
      ]
     },
     "execution_count": 11,
     "metadata": {},
     "output_type": "execute_result"
    }
   ],
   "source": [
    "# are there missing cuisine labels? (nope)\n",
    "sum(pd.isna(recipedf.cuisine))"
   ]
  },
  {
   "cell_type": "code",
   "execution_count": 12,
   "metadata": {
    "slideshow": {
     "slide_type": "fragment"
    }
   },
   "outputs": [
    {
     "name": "stdout",
     "output_type": "stream",
     "text": [
      "39774 39774\n"
     ]
    }
   ],
   "source": [
    "# are all the ID's unique? Are there dupes? (Seems like nope.)\n",
    "counts = recipedf.id.value_counts()\n",
    "print(len(counts),sum(counts) )"
   ]
  },
  {
   "cell_type": "code",
   "execution_count": 13,
   "metadata": {
    "slideshow": {
     "slide_type": "fragment"
    }
   },
   "outputs": [
    {
     "data": {
      "text/plain": [
       "<matplotlib.axes._subplots.AxesSubplot at 0x1a1ff53208>"
      ]
     },
     "execution_count": 13,
     "metadata": {},
     "output_type": "execute_result"
    },
    {
     "data": {
      "image/png": "[encoded data removed]",
      "text/plain": [
       "<Figure size 1800x720 with 2 Axes>"
      ]
     },
     "metadata": {
      "needs_background": "light"
     },
     "output_type": "display_data"
    }
   ],
   "source": [
    "# Does Donald's fav shed any light on missing variables? (Nope)\n",
    "msno.matrix(recipedf)"
   ]
  },
  {
   "cell_type": "code",
   "execution_count": 14,
   "metadata": {
    "slideshow": {
     "slide_type": "subslide"
    }
   },
   "outputs": [
    {
     "name": "stdout",
     "output_type": "stream",
     "text": [
      "6714 428275\n"
     ]
    }
   ],
   "source": [
    "# How many unique features have we got?\n",
    "# Is that too many for converting to dummies? (Kinda)\n",
    "biglist = []\n",
    "for listobject in recipedf.ingredients:\n",
    "    biglist += listobject\n",
    "\n",
    "print(len(set(biglist)), len(biglist))"
   ]
  },
  {
   "cell_type": "code",
   "execution_count": 15,
   "metadata": {
    "slideshow": {
     "slide_type": "fragment"
    }
   },
   "outputs": [],
   "source": [
    "# Preprocess ingredients list\n",
    "# convert to space-separated strings where multi-word terms get a hyphen\n",
    "# eg: [grape tomato, onion] --> [grape-tomato onion]\n",
    "recipedf['text_ing'] = ['#'.join(listobject).replace(\" \", \"\").replace(\"#\", \" \") \n",
    "                        for listobject in recipedf.ingredients]"
   ]
  },
  {
   "cell_type": "code",
   "execution_count": 16,
   "metadata": {
    "slideshow": {
     "slide_type": "fragment"
    }
   },
   "outputs": [
    {
     "data": {
      "text/html": [
       "<div>\n",
       "<style scoped>\n",
       "    .dataframe tbody tr th:only-of-type {\n",
       "        vertical-align: middle;\n",
       "    }\n",
       "\n",
       "    .dataframe tbody tr th {\n",
       "        vertical-align: top;\n",
       "    }\n",
       "\n",
       "    .dataframe thead th {\n",
       "        text-align: right;\n",
       "    }\n",
       "</style>\n",
       "<table border=\"1\" class=\"dataframe\">\n",
       "  <thead>\n",
       "    <tr style=\"text-align: right;\">\n",
       "      <th></th>\n",
       "      <th>cuisine</th>\n",
       "      <th>id</th>\n",
       "      <th>ingredients</th>\n",
       "      <th>text_ing</th>\n",
       "    </tr>\n",
       "  </thead>\n",
       "  <tbody>\n",
       "    <tr>\n",
       "      <th>0</th>\n",
       "      <td>greek</td>\n",
       "      <td>10259</td>\n",
       "      <td>[romaine lettuce, black olives, grape tomatoes, garlic, pepper, purple onion, seasoning, garbanzo beans, feta cheese crumbles]</td>\n",
       "      <td>romainelettuce blackolives grapetomatoes garlic pepper purpleonion seasoning garbanzobeans fetacheesecrumbles</td>\n",
       "    </tr>\n",
       "  </tbody>\n",
       "</table>\n",
       "</div>"
      ],
      "text/plain": [
       "  cuisine     id  \\\n",
       "0   greek  10259   \n",
       "\n",
       "                                                                                                                      ingredients  \\\n",
       "0  [romaine lettuce, black olives, grape tomatoes, garlic, pepper, purple onion, seasoning, garbanzo beans, feta cheese crumbles]   \n",
       "\n",
       "                                                                                                        text_ing  \n",
       "0  romainelettuce blackolives grapetomatoes garlic pepper purpleonion seasoning garbanzobeans fetacheesecrumbles  "
      ]
     },
     "execution_count": 16,
     "metadata": {},
     "output_type": "execute_result"
    }
   ],
   "source": [
    "# looks like this now.\n",
    "recipedf.head(1)"
   ]
  },
  {
   "cell_type": "markdown",
   "metadata": {
    "slideshow": {
     "slide_type": "slide"
    }
   },
   "source": [
    "## Train Naive Bayes"
   ]
  },
  {
   "cell_type": "code",
   "execution_count": 17,
   "metadata": {
    "slideshow": {
     "slide_type": "subslide"
    }
   },
   "outputs": [],
   "source": [
    "# train test split\n",
    "x_train, x_test, y_train, y_test = train_test_split(recipedf.text_ing, recipedf.cuisine, \n",
    "                                                    test_size = .2, random_state=1)"
   ]
  },
  {
   "cell_type": "code",
   "execution_count": 18,
   "metadata": {
    "slideshow": {
     "slide_type": "skip"
    }
   },
   "outputs": [],
   "source": [
    "# initialize model\n",
    "count_vect = CountVectorizer()"
   ]
  },
  {
   "cell_type": "code",
   "execution_count": 19,
   "metadata": {
    "slideshow": {
     "slide_type": "fragment"
    }
   },
   "outputs": [],
   "source": [
    "# aim count vectorizer at text\n",
    "# get sparse matrix of features\n",
    "x_train_counts = count_vect.fit_transform(x_train)\n",
    "x_test_counts = count_vect.transform(x_test)"
   ]
  },
  {
   "cell_type": "code",
   "execution_count": 20,
   "metadata": {
    "slideshow": {
     "slide_type": "fragment"
    }
   },
   "outputs": [
    {
     "data": {
      "text/plain": [
       "(31819, 6386)"
      ]
     },
     "execution_count": 20,
     "metadata": {},
     "output_type": "execute_result"
    }
   ],
   "source": [
    "# dimensions of feature matrix\n",
    "x_train_counts.shape"
   ]
  },
  {
   "cell_type": "code",
   "execution_count": 21,
   "metadata": {
    "slideshow": {
     "slide_type": "subslide"
    }
   },
   "outputs": [],
   "source": [
    "# fit the model\n",
    "fit_model_1 = MultinomialNB().fit(x_train_counts, y_train)"
   ]
  },
  {
   "cell_type": "code",
   "execution_count": 22,
   "metadata": {
    "slideshow": {
     "slide_type": "fragment"
    }
   },
   "outputs": [
    {
     "data": {
      "text/plain": [
       "0.7712373110405732"
      ]
     },
     "execution_count": 22,
     "metadata": {},
     "output_type": "execute_result"
    }
   ],
   "source": [
    "# what is the percentage accuracy? (in sample)\n",
    "fit_model_1.score(x_train_counts, y_train)"
   ]
  },
  {
   "cell_type": "code",
   "execution_count": 23,
   "metadata": {
    "slideshow": {
     "slide_type": "fragment"
    }
   },
   "outputs": [
    {
     "data": {
      "text/plain": [
       "0.7318667504714016"
      ]
     },
     "execution_count": 23,
     "metadata": {},
     "output_type": "execute_result"
    }
   ],
   "source": [
    "# what is the percentage accuracy? (out of sample)\n",
    "fit_model_1.score(x_test_counts, y_test)"
   ]
  },
  {
   "cell_type": "markdown",
   "metadata": {
    "slideshow": {
     "slide_type": "slide"
    }
   },
   "source": [
    "## SVM"
   ]
  },
  {
   "cell_type": "code",
   "execution_count": 24,
   "metadata": {
    "slideshow": {
     "slide_type": "subslide"
    }
   },
   "outputs": [],
   "source": [
    "# initialize model\n",
    "svm_model = SGDClassifier(loss='hinge', penalty='l2', alpha=1e-3, random_state=1, max_iter=5, tol=None)"
   ]
  },
  {
   "cell_type": "code",
   "execution_count": 25,
   "metadata": {
    "slideshow": {
     "slide_type": "fragment"
    }
   },
   "outputs": [],
   "source": [
    "# fit svm \n",
    "fit_model_2 = svm_model.fit(x_train_counts, y_train)  "
   ]
  },
  {
   "cell_type": "code",
   "execution_count": 26,
   "metadata": {
    "slideshow": {
     "slide_type": "fragment"
    }
   },
   "outputs": [
    {
     "data": {
      "text/plain": [
       "0.7915710738866715"
      ]
     },
     "execution_count": 26,
     "metadata": {},
     "output_type": "execute_result"
    }
   ],
   "source": [
    "# in sample accuracy\n",
    "fit_model_2.score(x_train_counts, y_train)"
   ]
  },
  {
   "cell_type": "code",
   "execution_count": 27,
   "metadata": {
    "slideshow": {
     "slide_type": "fragment"
    }
   },
   "outputs": [
    {
     "data": {
      "text/plain": [
       "0.7523570081709616"
      ]
     },
     "execution_count": 27,
     "metadata": {},
     "output_type": "execute_result"
    }
   ],
   "source": [
    "# out of sample accuracy\n",
    "fit_model_2.score(x_test_counts, y_test)"
   ]
  },
  {
   "cell_type": "markdown",
   "metadata": {
    "slideshow": {
     "slide_type": "subslide"
    }
   },
   "source": [
    "I'm going to recommend SVM: better accuracy, and in naive text formats the in-sample out-of-sample accuracy difference is lower (maybe better at not overfitting). "
   ]
  },
  {
   "cell_type": "code",
   "execution_count": 28,
   "metadata": {
    "slideshow": {
     "slide_type": "fragment"
    }
   },
   "outputs": [
    {
     "data": {
      "text/plain": [
       "(20, 6386)"
      ]
     },
     "execution_count": 28,
     "metadata": {},
     "output_type": "execute_result"
    }
   ],
   "source": [
    "# what is the shape of the coef matrix \n",
    "# for extracting cuisine names and associated ingredients\n",
    "fit_model_2.coef_.shape"
   ]
  },
  {
   "cell_type": "code",
   "execution_count": 29,
   "metadata": {
    "slideshow": {
     "slide_type": "fragment"
    }
   },
   "outputs": [
    {
     "data": {
      "text/plain": [
       "array(['brazilian', 'british', 'cajun_creole', 'chinese', 'filipino',\n",
       "       'french', 'greek', 'indian', 'irish', 'italian', 'jamaican',\n",
       "       'japanese', 'korean', 'mexican', 'moroccan', 'russian',\n",
       "       'southern_us', 'spanish', 'thai', 'vietnamese'], dtype='<U12')"
      ]
     },
     "execution_count": 29,
     "metadata": {},
     "output_type": "execute_result"
    }
   ],
   "source": [
    "fit_model_2.classes_"
   ]
  },
  {
   "cell_type": "code",
   "execution_count": 30,
   "metadata": {
    "slideshow": {
     "slide_type": "fragment"
    }
   },
   "outputs": [],
   "source": [
    "# convert to dataframe\n",
    "coef_dataframe = pd.DataFrame(fit_model_2.coef_.T, columns = fit_model_2.classes_, \n",
    "                              index = count_vect.get_feature_names())"
   ]
  },
  {
   "cell_type": "code",
   "execution_count": 31,
   "metadata": {
    "slideshow": {
     "slide_type": "slide"
    }
   },
   "outputs": [
    {
     "data": {
      "text/plain": [
       "gruyerecheese             0.866443\n",
       "gratedgruyèrecheese       0.822493\n",
       "cognac                    0.791100\n",
       "crèmefraîche              0.621579\n",
       "swisscheese               0.527400\n",
       "haricotsverts             0.514843\n",
       "niçoiseolives             0.508565\n",
       "herbesdeprovence          0.508565\n",
       "frozenpastrypuffsheets    0.496007\n",
       "thymesprigs               0.489729\n",
       "Name: french, dtype: float64"
      ]
     },
     "execution_count": 31,
     "metadata": {},
     "output_type": "execute_result"
    }
   ],
   "source": [
    "# example of most impactful words/n-grams for French cuisine\n",
    "coef_dataframe.french.sort_values(ascending = False).head(10)"
   ]
  },
  {
   "cell_type": "code",
   "execution_count": 32,
   "metadata": {
    "slideshow": {
     "slide_type": "slide"
    }
   },
   "outputs": [],
   "source": [
    "# make a dataframe of top indicator words for better printing to screen\n",
    "toptens = pd.DataFrame({i: coef_dataframe[i].sort_values(ascending = False).head(10).index \n",
    "                        for i in coef_dataframe.columns})"
   ]
  },
  {
   "cell_type": "markdown",
   "metadata": {
    "slideshow": {
     "slide_type": "fragment"
    }
   },
   "source": [
    "## 3. For each major cuisine, what are the driving ingredients that characterize it."
   ]
  },
  {
   "cell_type": "code",
   "execution_count": 33,
   "metadata": {
    "slideshow": {
     "slide_type": "fragment"
    }
   },
   "outputs": [
    {
     "data": {
      "text/html": [
       "<div>\n",
       "<style scoped>\n",
       "    .dataframe tbody tr th:only-of-type {\n",
       "        vertical-align: middle;\n",
       "    }\n",
       "\n",
       "    .dataframe tbody tr th {\n",
       "        vertical-align: top;\n",
       "    }\n",
       "\n",
       "    .dataframe thead th {\n",
       "        text-align: right;\n",
       "    }\n",
       "</style>\n",
       "<table border=\"1\" class=\"dataframe\">\n",
       "  <thead>\n",
       "    <tr style=\"text-align: right;\">\n",
       "      <th></th>\n",
       "      <th>brazilian</th>\n",
       "      <th>british</th>\n",
       "      <th>cajun_creole</th>\n",
       "      <th>chinese</th>\n",
       "      <th>filipino</th>\n",
       "      <th>french</th>\n",
       "      <th>greek</th>\n",
       "      <th>indian</th>\n",
       "      <th>irish</th>\n",
       "      <th>italian</th>\n",
       "      <th>jamaican</th>\n",
       "      <th>japanese</th>\n",
       "      <th>korean</th>\n",
       "      <th>mexican</th>\n",
       "      <th>moroccan</th>\n",
       "      <th>russian</th>\n",
       "      <th>southern_us</th>\n",
       "      <th>spanish</th>\n",
       "      <th>thai</th>\n",
       "      <th>vietnamese</th>\n",
       "    </tr>\n",
       "  </thead>\n",
       "  <tbody>\n",
       "    <tr>\n",
       "      <th>0</th>\n",
       "      <td>cachaca</td>\n",
       "      <td>stiltoncheese</td>\n",
       "      <td>cajunseasoning</td>\n",
       "      <td>szechwanpeppercorns</td>\n",
       "      <td>calamansijuice</td>\n",
       "      <td>gruyerecheese</td>\n",
       "      <td>fetacheesecrumbles</td>\n",
       "      <td>garammasala</td>\n",
       "      <td>irishwhiskey</td>\n",
       "      <td>marsalawine</td>\n",
       "      <td>scotchbonnetchile</td>\n",
       "      <td>mirin</td>\n",
       "      <td>kimchi</td>\n",
       "      <td>flourtortillas</td>\n",
       "      <td>couscous</td>\n",
       "      <td>beets</td>\n",
       "      <td>grits</td>\n",
       "      <td>spanishchorizo</td>\n",
       "      <td>thairedcurrypaste</td>\n",
       "      <td>ricepaper</td>\n",
       "    </tr>\n",
       "    <tr>\n",
       "      <th>1</th>\n",
       "      <td>chocolatesprinkles</td>\n",
       "      <td>goldensyrup</td>\n",
       "      <td>creoleseasoning</td>\n",
       "      <td>hoisinsauce</td>\n",
       "      <td>porkbelly</td>\n",
       "      <td>gratedgruyèrecheese</td>\n",
       "      <td>fetacheese</td>\n",
       "      <td>currypowder</td>\n",
       "      <td>guinnessbeer</td>\n",
       "      <td>italianseasoning</td>\n",
       "      <td>groundallspice</td>\n",
       "      <td>sake</td>\n",
       "      <td>gochujangbase</td>\n",
       "      <td>corntortillas</td>\n",
       "      <td>raselhanout</td>\n",
       "      <td>dill</td>\n",
       "      <td>quickcookinggrits</td>\n",
       "      <td>serranoham</td>\n",
       "      <td>thaifishsauce</td>\n",
       "      <td>ricevermicelli</td>\n",
       "    </tr>\n",
       "    <tr>\n",
       "      <th>2</th>\n",
       "      <td>açai</td>\n",
       "      <td>suet</td>\n",
       "      <td>andouillesausage</td>\n",
       "      <td>spicepowder</td>\n",
       "      <td>lumpiawrappers</td>\n",
       "      <td>cognac</td>\n",
       "      <td>greekyogurt</td>\n",
       "      <td>ghee</td>\n",
       "      <td>cornedbeef</td>\n",
       "      <td>polenta</td>\n",
       "      <td>jamaicanjerkseason</td>\n",
       "      <td>dashi</td>\n",
       "      <td>asianpear</td>\n",
       "      <td>tequila</td>\n",
       "      <td>preservedlemon</td>\n",
       "      <td>freshdill</td>\n",
       "      <td>collardgreens</td>\n",
       "      <td>manchegocheese</td>\n",
       "      <td>redcurrypaste</td>\n",
       "      <td>vietnamesefishsauce</td>\n",
       "    </tr>\n",
       "    <tr>\n",
       "      <th>3</th>\n",
       "      <td>maniocflour</td>\n",
       "      <td>stilton</td>\n",
       "      <td>smokedsausage</td>\n",
       "      <td>shaoxingwine</td>\n",
       "      <td>shrimppaste</td>\n",
       "      <td>crèmefraîche</td>\n",
       "      <td>greekseasoning</td>\n",
       "      <td>groundcardamom</td>\n",
       "      <td>irishcreamliqueur</td>\n",
       "      <td>gratedparmesancheese</td>\n",
       "      <td>allspice</td>\n",
       "      <td>nori</td>\n",
       "      <td>gochugaru</td>\n",
       "      <td>salsa</td>\n",
       "      <td>harissa</td>\n",
       "      <td>farmercheese</td>\n",
       "      <td>buttermilk</td>\n",
       "      <td>chorizosausage</td>\n",
       "      <td>unsweetenedcoconutmilk</td>\n",
       "      <td>vietnamesecoriander</td>\n",
       "    </tr>\n",
       "    <tr>\n",
       "      <th>4</th>\n",
       "      <td>driedblackbeans</td>\n",
       "      <td>beefdrippings</td>\n",
       "      <td>celeryribs</td>\n",
       "      <td>lightsoysauce</td>\n",
       "      <td>peppercorns</td>\n",
       "      <td>swisscheese</td>\n",
       "      <td>groundlamb</td>\n",
       "      <td>plainyogurt</td>\n",
       "      <td>beefbrisket</td>\n",
       "      <td>ricottacheese</td>\n",
       "      <td>thyme</td>\n",
       "      <td>whitemiso</td>\n",
       "      <td>sesameseeds</td>\n",
       "      <td>tacoseasoning</td>\n",
       "      <td>driedapricot</td>\n",
       "      <td>sauerkraut</td>\n",
       "      <td>bourbonwhiskey</td>\n",
       "      <td>spanishpaprika</td>\n",
       "      <td>fishsauce</td>\n",
       "      <td>pickledcarrots</td>\n",
       "    </tr>\n",
       "    <tr>\n",
       "      <th>5</th>\n",
       "      <td>granola</td>\n",
       "      <td>raspberryjam</td>\n",
       "      <td>okra</td>\n",
       "      <td>oystersauce</td>\n",
       "      <td>hotdogs</td>\n",
       "      <td>haricotsverts</td>\n",
       "      <td>greekstyleplainyogurt</td>\n",
       "      <td>yoghurt</td>\n",
       "      <td>stout</td>\n",
       "      <td>mascarpone</td>\n",
       "      <td>driedthyme</td>\n",
       "      <td>misopaste</td>\n",
       "      <td>toastedsesameseeds</td>\n",
       "      <td>tortillachips</td>\n",
       "      <td>groundcinnamon</td>\n",
       "      <td>buckwheatflour</td>\n",
       "      <td>peaches</td>\n",
       "      <td>sherryvinegar</td>\n",
       "      <td>thaigreencurrypaste</td>\n",
       "      <td>fishsauce</td>\n",
       "    </tr>\n",
       "    <tr>\n",
       "      <th>6</th>\n",
       "      <td>frozenbanana</td>\n",
       "      <td>marmite</td>\n",
       "      <td>redbeans</td>\n",
       "      <td>chinesefive</td>\n",
       "      <td>cookingoil</td>\n",
       "      <td>niçoiseolives</td>\n",
       "      <td>phyllodough</td>\n",
       "      <td>basmatirice</td>\n",
       "      <td>mashedpotatoes</td>\n",
       "      <td>parmigianoreggianocheese</td>\n",
       "      <td>freshthyme</td>\n",
       "      <td>konbu</td>\n",
       "      <td>beefribshort</td>\n",
       "      <td>tomatillos</td>\n",
       "      <td>groundginger</td>\n",
       "      <td>sourcream</td>\n",
       "      <td>choppedpecans</td>\n",
       "      <td>saffronthreads</td>\n",
       "      <td>creamypeanutbutter</td>\n",
       "      <td>mungbeansprouts</td>\n",
       "    </tr>\n",
       "    <tr>\n",
       "      <th>7</th>\n",
       "      <td>palmoil</td>\n",
       "      <td>doublecream</td>\n",
       "      <td>celery</td>\n",
       "      <td>cornstarch</td>\n",
       "      <td>lumpiaskins</td>\n",
       "      <td>herbesdeprovence</td>\n",
       "      <td>freshdill</td>\n",
       "      <td>cuminseed</td>\n",
       "      <td>baileysirishcreamliqueur</td>\n",
       "      <td>spaghetti</td>\n",
       "      <td>groundthyme</td>\n",
       "      <td>miso</td>\n",
       "      <td>pears</td>\n",
       "      <td>masaharina</td>\n",
       "      <td>cinnamon</td>\n",
       "      <td>pickles</td>\n",
       "      <td>greentomatoes</td>\n",
       "      <td>smokedpaprika</td>\n",
       "      <td>lightcoconutmilk</td>\n",
       "      <td>staranise</td>\n",
       "    </tr>\n",
       "    <tr>\n",
       "      <th>8</th>\n",
       "      <td>almondmilk</td>\n",
       "      <td>spongecake</td>\n",
       "      <td>crawfish</td>\n",
       "      <td>chinesericewine</td>\n",
       "      <td>vinegar</td>\n",
       "      <td>frozenpastrypuffsheets</td>\n",
       "      <td>cucumber</td>\n",
       "      <td>groundturmeric</td>\n",
       "      <td>lambshoulder</td>\n",
       "      <td>prosciutto</td>\n",
       "      <td>rum</td>\n",
       "      <td>driedbonitoflakes</td>\n",
       "      <td>pepperflakes</td>\n",
       "      <td>tortillas</td>\n",
       "      <td>saffron</td>\n",
       "      <td>cottagecheese</td>\n",
       "      <td>eyedpeas</td>\n",
       "      <td>sherrywinevinegar</td>\n",
       "      <td>sweetchilisauce</td>\n",
       "      <td>beansprouts</td>\n",
       "    </tr>\n",
       "    <tr>\n",
       "      <th>9</th>\n",
       "      <td>heartsofpalm</td>\n",
       "      <td>driedcurrants</td>\n",
       "      <td>creolemustard</td>\n",
       "      <td>lowsodiumsoysauce</td>\n",
       "      <td>calamansi</td>\n",
       "      <td>thymesprigs</td>\n",
       "      <td>tahini</td>\n",
       "      <td>curryleaves</td>\n",
       "      <td>redpotato</td>\n",
       "      <td>arboriorice</td>\n",
       "      <td>nutmeg</td>\n",
       "      <td>bonitoflakes</td>\n",
       "      <td>ribeyesteaks</td>\n",
       "      <td>avocado</td>\n",
       "      <td>groundcumin</td>\n",
       "      <td>carawayseeds</td>\n",
       "      <td>black</td>\n",
       "      <td>drysherry</td>\n",
       "      <td>peanutbutter</td>\n",
       "      <td>asianfishsauce</td>\n",
       "    </tr>\n",
       "  </tbody>\n",
       "</table>\n",
       "</div>"
      ],
      "text/plain": [
       "            brazilian        british      cajun_creole              chinese  \\\n",
       "0             cachaca  stiltoncheese    cajunseasoning  szechwanpeppercorns   \n",
       "1  chocolatesprinkles    goldensyrup   creoleseasoning          hoisinsauce   \n",
       "2                açai           suet  andouillesausage          spicepowder   \n",
       "3         maniocflour        stilton     smokedsausage         shaoxingwine   \n",
       "4     driedblackbeans  beefdrippings        celeryribs        lightsoysauce   \n",
       "5             granola   raspberryjam              okra          oystersauce   \n",
       "6        frozenbanana        marmite          redbeans          chinesefive   \n",
       "7             palmoil    doublecream            celery           cornstarch   \n",
       "8          almondmilk     spongecake          crawfish      chinesericewine   \n",
       "9        heartsofpalm  driedcurrants     creolemustard    lowsodiumsoysauce   \n",
       "\n",
       "         filipino                  french                  greek  \\\n",
       "0  calamansijuice           gruyerecheese     fetacheesecrumbles   \n",
       "1       porkbelly     gratedgruyèrecheese             fetacheese   \n",
       "2  lumpiawrappers                  cognac            greekyogurt   \n",
       "3     shrimppaste            crèmefraîche         greekseasoning   \n",
       "4     peppercorns             swisscheese             groundlamb   \n",
       "5         hotdogs           haricotsverts  greekstyleplainyogurt   \n",
       "6      cookingoil           niçoiseolives            phyllodough   \n",
       "7     lumpiaskins        herbesdeprovence              freshdill   \n",
       "8         vinegar  frozenpastrypuffsheets               cucumber   \n",
       "9       calamansi             thymesprigs                 tahini   \n",
       "\n",
       "           indian                     irish                   italian  \\\n",
       "0     garammasala              irishwhiskey               marsalawine   \n",
       "1     currypowder              guinnessbeer          italianseasoning   \n",
       "2            ghee                cornedbeef                   polenta   \n",
       "3  groundcardamom         irishcreamliqueur      gratedparmesancheese   \n",
       "4     plainyogurt               beefbrisket             ricottacheese   \n",
       "5         yoghurt                     stout                mascarpone   \n",
       "6     basmatirice            mashedpotatoes  parmigianoreggianocheese   \n",
       "7       cuminseed  baileysirishcreamliqueur                 spaghetti   \n",
       "8  groundturmeric              lambshoulder                prosciutto   \n",
       "9     curryleaves                 redpotato               arboriorice   \n",
       "\n",
       "             jamaican           japanese              korean         mexican  \\\n",
       "0   scotchbonnetchile              mirin              kimchi  flourtortillas   \n",
       "1      groundallspice               sake       gochujangbase   corntortillas   \n",
       "2  jamaicanjerkseason              dashi           asianpear         tequila   \n",
       "3            allspice               nori           gochugaru           salsa   \n",
       "4               thyme          whitemiso         sesameseeds   tacoseasoning   \n",
       "5          driedthyme          misopaste  toastedsesameseeds   tortillachips   \n",
       "6          freshthyme              konbu        beefribshort      tomatillos   \n",
       "7         groundthyme               miso               pears      masaharina   \n",
       "8                 rum  driedbonitoflakes        pepperflakes       tortillas   \n",
       "9              nutmeg       bonitoflakes        ribeyesteaks         avocado   \n",
       "\n",
       "         moroccan         russian        southern_us            spanish  \\\n",
       "0        couscous           beets              grits     spanishchorizo   \n",
       "1     raselhanout            dill  quickcookinggrits         serranoham   \n",
       "2  preservedlemon       freshdill      collardgreens     manchegocheese   \n",
       "3         harissa    farmercheese         buttermilk     chorizosausage   \n",
       "4    driedapricot      sauerkraut     bourbonwhiskey     spanishpaprika   \n",
       "5  groundcinnamon  buckwheatflour            peaches      sherryvinegar   \n",
       "6    groundginger       sourcream      choppedpecans     saffronthreads   \n",
       "7        cinnamon         pickles      greentomatoes      smokedpaprika   \n",
       "8         saffron   cottagecheese           eyedpeas  sherrywinevinegar   \n",
       "9     groundcumin    carawayseeds              black          drysherry   \n",
       "\n",
       "                     thai           vietnamese  \n",
       "0       thairedcurrypaste            ricepaper  \n",
       "1           thaifishsauce       ricevermicelli  \n",
       "2           redcurrypaste  vietnamesefishsauce  \n",
       "3  unsweetenedcoconutmilk  vietnamesecoriander  \n",
       "4               fishsauce       pickledcarrots  \n",
       "5     thaigreencurrypaste            fishsauce  \n",
       "6      creamypeanutbutter      mungbeansprouts  \n",
       "7        lightcoconutmilk            staranise  \n",
       "8         sweetchilisauce          beansprouts  \n",
       "9            peanutbutter       asianfishsauce  "
      ]
     },
     "execution_count": 33,
     "metadata": {},
     "output_type": "execute_result"
    }
   ],
   "source": [
    "toptens"
   ]
  },
  {
   "cell_type": "code",
   "execution_count": 34,
   "metadata": {},
   "outputs": [
    {
     "data": {
      "text/plain": [
       "0             gruyerecheese\n",
       "1       gratedgruyèrecheese\n",
       "2                    cognac\n",
       "3              crèmefraîche\n",
       "4               swisscheese\n",
       "5             haricotsverts\n",
       "6             niçoiseolives\n",
       "7          herbesdeprovence\n",
       "8    frozenpastrypuffsheets\n",
       "9               thymesprigs\n",
       "Name: french, dtype: object"
      ]
     },
     "execution_count": 34,
     "metadata": {},
     "output_type": "execute_result"
    }
   ],
   "source": [
    "toptens['french']"
   ]
  },
  {
   "cell_type": "code",
   "execution_count": 35,
   "metadata": {
    "slideshow": {
     "slide_type": "skip"
    }
   },
   "outputs": [],
   "source": [
    "#count_vect.get_feature_names()"
   ]
  },
  {
   "cell_type": "markdown",
   "metadata": {
    "slideshow": {
     "slide_type": "slide"
    }
   },
   "source": [
    "## 4. Your product manager indicates a likelihood that you will only need to write a guideline for an outsourced team to hand label the remaining corpus. How would you go about writing this guide for a few major cuisines?\n",
    "\n",
    "How do I make the job of disambiguating between cuisines easier for workers who have to hand label. There are some cuisines that are easily mistaken for each other based on ingredients. Can we call out those that are often mixed up? \n",
    "\n",
    "1. Give some defining ingredients for each.\n",
    "2. Present a confusion matrix for guidance.\n",
    "3. Give further defining ingredients to disambiguate between two cuisines often mistaken for each other."
   ]
  },
  {
   "cell_type": "code",
   "execution_count": 36,
   "metadata": {
    "slideshow": {
     "slide_type": "subslide"
    }
   },
   "outputs": [],
   "source": [
    "# start with a confusion matrix\n",
    "predictions = fit_model_2.predict(x_test_counts)"
   ]
  },
  {
   "cell_type": "code",
   "execution_count": 37,
   "metadata": {
    "slideshow": {
     "slide_type": "fragment"
    }
   },
   "outputs": [],
   "source": [
    "# convert to dataframe\n",
    "confusion_df = pd.DataFrame(confusion_matrix(y_test, predictions), \n",
    "                            columns = fit_model_2.classes_, index = fit_model_2.classes_)"
   ]
  },
  {
   "cell_type": "code",
   "execution_count": 38,
   "metadata": {
    "slideshow": {
     "slide_type": "fragment"
    }
   },
   "outputs": [],
   "source": [
    "# normalize by row sum -- not balanced classes\n",
    "# italian really over-represented\n",
    "row_sums = confusion_df.sum(axis = 1)\n",
    "norm_df = confusion_df.div(row_sums, axis = 0)\n",
    "#norm_df.sum(axis =1)"
   ]
  },
  {
   "cell_type": "code",
   "execution_count": 39,
   "metadata": {
    "slideshow": {
     "slide_type": "slide"
    }
   },
   "outputs": [
    {
     "data": {
      "text/html": [
       "<div>\n",
       "<style scoped>\n",
       "    .dataframe tbody tr th:only-of-type {\n",
       "        vertical-align: middle;\n",
       "    }\n",
       "\n",
       "    .dataframe tbody tr th {\n",
       "        vertical-align: top;\n",
       "    }\n",
       "\n",
       "    .dataframe thead th {\n",
       "        text-align: right;\n",
       "    }\n",
       "</style>\n",
       "<table border=\"1\" class=\"dataframe\">\n",
       "  <thead>\n",
       "    <tr style=\"text-align: right;\">\n",
       "      <th></th>\n",
       "      <th>brazilian</th>\n",
       "      <th>british</th>\n",
       "      <th>cajun_creole</th>\n",
       "      <th>chinese</th>\n",
       "      <th>filipino</th>\n",
       "      <th>french</th>\n",
       "      <th>greek</th>\n",
       "      <th>indian</th>\n",
       "      <th>irish</th>\n",
       "      <th>italian</th>\n",
       "      <th>jamaican</th>\n",
       "      <th>japanese</th>\n",
       "      <th>korean</th>\n",
       "      <th>mexican</th>\n",
       "      <th>moroccan</th>\n",
       "      <th>russian</th>\n",
       "      <th>southern_us</th>\n",
       "      <th>spanish</th>\n",
       "      <th>thai</th>\n",
       "      <th>vietnamese</th>\n",
       "    </tr>\n",
       "  </thead>\n",
       "  <tbody>\n",
       "    <tr>\n",
       "      <th>brazilian</th>\n",
       "      <td>0.271605</td>\n",
       "      <td>0.000000</td>\n",
       "      <td>0.012346</td>\n",
       "      <td>0.012346</td>\n",
       "      <td>0.024691</td>\n",
       "      <td>0.024691</td>\n",
       "      <td>0.000000</td>\n",
       "      <td>0.024691</td>\n",
       "      <td>0.000000</td>\n",
       "      <td>0.160494</td>\n",
       "      <td>0.000000</td>\n",
       "      <td>0.000000</td>\n",
       "      <td>0.000000</td>\n",
       "      <td>0.222222</td>\n",
       "      <td>0.012346</td>\n",
       "      <td>0.012346</td>\n",
       "      <td>0.160494</td>\n",
       "      <td>0.000000</td>\n",
       "      <td>0.061728</td>\n",
       "      <td>0.000000</td>\n",
       "    </tr>\n",
       "    <tr>\n",
       "      <th>british</th>\n",
       "      <td>0.000000</td>\n",
       "      <td>0.197452</td>\n",
       "      <td>0.012739</td>\n",
       "      <td>0.006369</td>\n",
       "      <td>0.000000</td>\n",
       "      <td>0.216561</td>\n",
       "      <td>0.000000</td>\n",
       "      <td>0.057325</td>\n",
       "      <td>0.025478</td>\n",
       "      <td>0.114650</td>\n",
       "      <td>0.000000</td>\n",
       "      <td>0.006369</td>\n",
       "      <td>0.000000</td>\n",
       "      <td>0.000000</td>\n",
       "      <td>0.000000</td>\n",
       "      <td>0.019108</td>\n",
       "      <td>0.337580</td>\n",
       "      <td>0.000000</td>\n",
       "      <td>0.006369</td>\n",
       "      <td>0.000000</td>\n",
       "    </tr>\n",
       "    <tr>\n",
       "      <th>cajun_creole</th>\n",
       "      <td>0.000000</td>\n",
       "      <td>0.010033</td>\n",
       "      <td>0.645485</td>\n",
       "      <td>0.010033</td>\n",
       "      <td>0.000000</td>\n",
       "      <td>0.023411</td>\n",
       "      <td>0.000000</td>\n",
       "      <td>0.003344</td>\n",
       "      <td>0.003344</td>\n",
       "      <td>0.093645</td>\n",
       "      <td>0.003344</td>\n",
       "      <td>0.000000</td>\n",
       "      <td>0.000000</td>\n",
       "      <td>0.030100</td>\n",
       "      <td>0.000000</td>\n",
       "      <td>0.010033</td>\n",
       "      <td>0.163880</td>\n",
       "      <td>0.003344</td>\n",
       "      <td>0.000000</td>\n",
       "      <td>0.000000</td>\n",
       "    </tr>\n",
       "    <tr>\n",
       "      <th>chinese</th>\n",
       "      <td>0.001866</td>\n",
       "      <td>0.000000</td>\n",
       "      <td>0.005597</td>\n",
       "      <td>0.880597</td>\n",
       "      <td>0.003731</td>\n",
       "      <td>0.001866</td>\n",
       "      <td>0.001866</td>\n",
       "      <td>0.003731</td>\n",
       "      <td>0.001866</td>\n",
       "      <td>0.022388</td>\n",
       "      <td>0.000000</td>\n",
       "      <td>0.022388</td>\n",
       "      <td>0.005597</td>\n",
       "      <td>0.007463</td>\n",
       "      <td>0.000000</td>\n",
       "      <td>0.000000</td>\n",
       "      <td>0.007463</td>\n",
       "      <td>0.000000</td>\n",
       "      <td>0.026119</td>\n",
       "      <td>0.007463</td>\n",
       "    </tr>\n",
       "    <tr>\n",
       "      <th>filipino</th>\n",
       "      <td>0.006579</td>\n",
       "      <td>0.000000</td>\n",
       "      <td>0.006579</td>\n",
       "      <td>0.164474</td>\n",
       "      <td>0.467105</td>\n",
       "      <td>0.019737</td>\n",
       "      <td>0.000000</td>\n",
       "      <td>0.006579</td>\n",
       "      <td>0.013158</td>\n",
       "      <td>0.052632</td>\n",
       "      <td>0.006579</td>\n",
       "      <td>0.006579</td>\n",
       "      <td>0.019737</td>\n",
       "      <td>0.052632</td>\n",
       "      <td>0.000000</td>\n",
       "      <td>0.000000</td>\n",
       "      <td>0.072368</td>\n",
       "      <td>0.000000</td>\n",
       "      <td>0.098684</td>\n",
       "      <td>0.006579</td>\n",
       "    </tr>\n",
       "    <tr>\n",
       "      <th>french</th>\n",
       "      <td>0.001957</td>\n",
       "      <td>0.001957</td>\n",
       "      <td>0.007828</td>\n",
       "      <td>0.011742</td>\n",
       "      <td>0.000000</td>\n",
       "      <td>0.598826</td>\n",
       "      <td>0.000000</td>\n",
       "      <td>0.005871</td>\n",
       "      <td>0.001957</td>\n",
       "      <td>0.225049</td>\n",
       "      <td>0.001957</td>\n",
       "      <td>0.005871</td>\n",
       "      <td>0.000000</td>\n",
       "      <td>0.007828</td>\n",
       "      <td>0.009785</td>\n",
       "      <td>0.009785</td>\n",
       "      <td>0.097847</td>\n",
       "      <td>0.009785</td>\n",
       "      <td>0.001957</td>\n",
       "      <td>0.000000</td>\n",
       "    </tr>\n",
       "    <tr>\n",
       "      <th>greek</th>\n",
       "      <td>0.000000</td>\n",
       "      <td>0.000000</td>\n",
       "      <td>0.004255</td>\n",
       "      <td>0.004255</td>\n",
       "      <td>0.008511</td>\n",
       "      <td>0.034043</td>\n",
       "      <td>0.578723</td>\n",
       "      <td>0.017021</td>\n",
       "      <td>0.000000</td>\n",
       "      <td>0.280851</td>\n",
       "      <td>0.000000</td>\n",
       "      <td>0.004255</td>\n",
       "      <td>0.000000</td>\n",
       "      <td>0.012766</td>\n",
       "      <td>0.017021</td>\n",
       "      <td>0.000000</td>\n",
       "      <td>0.025532</td>\n",
       "      <td>0.004255</td>\n",
       "      <td>0.008511</td>\n",
       "      <td>0.000000</td>\n",
       "    </tr>\n",
       "    <tr>\n",
       "      <th>indian</th>\n",
       "      <td>0.000000</td>\n",
       "      <td>0.000000</td>\n",
       "      <td>0.000000</td>\n",
       "      <td>0.003328</td>\n",
       "      <td>0.000000</td>\n",
       "      <td>0.001664</td>\n",
       "      <td>0.011647</td>\n",
       "      <td>0.896839</td>\n",
       "      <td>0.001664</td>\n",
       "      <td>0.023295</td>\n",
       "      <td>0.001664</td>\n",
       "      <td>0.000000</td>\n",
       "      <td>0.000000</td>\n",
       "      <td>0.026622</td>\n",
       "      <td>0.014975</td>\n",
       "      <td>0.000000</td>\n",
       "      <td>0.011647</td>\n",
       "      <td>0.000000</td>\n",
       "      <td>0.006656</td>\n",
       "      <td>0.000000</td>\n",
       "    </tr>\n",
       "    <tr>\n",
       "      <th>irish</th>\n",
       "      <td>0.007246</td>\n",
       "      <td>0.036232</td>\n",
       "      <td>0.000000</td>\n",
       "      <td>0.000000</td>\n",
       "      <td>0.007246</td>\n",
       "      <td>0.123188</td>\n",
       "      <td>0.014493</td>\n",
       "      <td>0.014493</td>\n",
       "      <td>0.347826</td>\n",
       "      <td>0.057971</td>\n",
       "      <td>0.007246</td>\n",
       "      <td>0.000000</td>\n",
       "      <td>0.000000</td>\n",
       "      <td>0.036232</td>\n",
       "      <td>0.000000</td>\n",
       "      <td>0.007246</td>\n",
       "      <td>0.326087</td>\n",
       "      <td>0.014493</td>\n",
       "      <td>0.000000</td>\n",
       "      <td>0.000000</td>\n",
       "    </tr>\n",
       "    <tr>\n",
       "      <th>italian</th>\n",
       "      <td>0.001245</td>\n",
       "      <td>0.000000</td>\n",
       "      <td>0.004978</td>\n",
       "      <td>0.003111</td>\n",
       "      <td>0.000000</td>\n",
       "      <td>0.048538</td>\n",
       "      <td>0.008090</td>\n",
       "      <td>0.002489</td>\n",
       "      <td>0.000622</td>\n",
       "      <td>0.885501</td>\n",
       "      <td>0.001867</td>\n",
       "      <td>0.000622</td>\n",
       "      <td>0.000000</td>\n",
       "      <td>0.013690</td>\n",
       "      <td>0.000622</td>\n",
       "      <td>0.001245</td>\n",
       "      <td>0.024891</td>\n",
       "      <td>0.001867</td>\n",
       "      <td>0.000622</td>\n",
       "      <td>0.000000</td>\n",
       "    </tr>\n",
       "    <tr>\n",
       "      <th>jamaican</th>\n",
       "      <td>0.016000</td>\n",
       "      <td>0.008000</td>\n",
       "      <td>0.040000</td>\n",
       "      <td>0.024000</td>\n",
       "      <td>0.008000</td>\n",
       "      <td>0.024000</td>\n",
       "      <td>0.000000</td>\n",
       "      <td>0.080000</td>\n",
       "      <td>0.016000</td>\n",
       "      <td>0.000000</td>\n",
       "      <td>0.568000</td>\n",
       "      <td>0.000000</td>\n",
       "      <td>0.000000</td>\n",
       "      <td>0.040000</td>\n",
       "      <td>0.000000</td>\n",
       "      <td>0.016000</td>\n",
       "      <td>0.144000</td>\n",
       "      <td>0.008000</td>\n",
       "      <td>0.008000</td>\n",
       "      <td>0.000000</td>\n",
       "    </tr>\n",
       "    <tr>\n",
       "      <th>japanese</th>\n",
       "      <td>0.000000</td>\n",
       "      <td>0.003663</td>\n",
       "      <td>0.000000</td>\n",
       "      <td>0.146520</td>\n",
       "      <td>0.003663</td>\n",
       "      <td>0.018315</td>\n",
       "      <td>0.000000</td>\n",
       "      <td>0.120879</td>\n",
       "      <td>0.000000</td>\n",
       "      <td>0.029304</td>\n",
       "      <td>0.000000</td>\n",
       "      <td>0.597070</td>\n",
       "      <td>0.018315</td>\n",
       "      <td>0.014652</td>\n",
       "      <td>0.000000</td>\n",
       "      <td>0.007326</td>\n",
       "      <td>0.021978</td>\n",
       "      <td>0.000000</td>\n",
       "      <td>0.014652</td>\n",
       "      <td>0.003663</td>\n",
       "    </tr>\n",
       "    <tr>\n",
       "      <th>korean</th>\n",
       "      <td>0.000000</td>\n",
       "      <td>0.000000</td>\n",
       "      <td>0.000000</td>\n",
       "      <td>0.149660</td>\n",
       "      <td>0.000000</td>\n",
       "      <td>0.000000</td>\n",
       "      <td>0.006803</td>\n",
       "      <td>0.000000</td>\n",
       "      <td>0.000000</td>\n",
       "      <td>0.013605</td>\n",
       "      <td>0.000000</td>\n",
       "      <td>0.047619</td>\n",
       "      <td>0.755102</td>\n",
       "      <td>0.000000</td>\n",
       "      <td>0.000000</td>\n",
       "      <td>0.000000</td>\n",
       "      <td>0.006803</td>\n",
       "      <td>0.000000</td>\n",
       "      <td>0.006803</td>\n",
       "      <td>0.013605</td>\n",
       "    </tr>\n",
       "    <tr>\n",
       "      <th>mexican</th>\n",
       "      <td>0.002269</td>\n",
       "      <td>0.000756</td>\n",
       "      <td>0.001513</td>\n",
       "      <td>0.005295</td>\n",
       "      <td>0.000756</td>\n",
       "      <td>0.007564</td>\n",
       "      <td>0.002269</td>\n",
       "      <td>0.004539</td>\n",
       "      <td>0.000000</td>\n",
       "      <td>0.024206</td>\n",
       "      <td>0.000000</td>\n",
       "      <td>0.000756</td>\n",
       "      <td>0.000756</td>\n",
       "      <td>0.912254</td>\n",
       "      <td>0.000000</td>\n",
       "      <td>0.000000</td>\n",
       "      <td>0.031770</td>\n",
       "      <td>0.003026</td>\n",
       "      <td>0.002269</td>\n",
       "      <td>0.000000</td>\n",
       "    </tr>\n",
       "    <tr>\n",
       "      <th>moroccan</th>\n",
       "      <td>0.000000</td>\n",
       "      <td>0.000000</td>\n",
       "      <td>0.000000</td>\n",
       "      <td>0.006579</td>\n",
       "      <td>0.000000</td>\n",
       "      <td>0.000000</td>\n",
       "      <td>0.006579</td>\n",
       "      <td>0.078947</td>\n",
       "      <td>0.000000</td>\n",
       "      <td>0.065789</td>\n",
       "      <td>0.000000</td>\n",
       "      <td>0.000000</td>\n",
       "      <td>0.000000</td>\n",
       "      <td>0.065789</td>\n",
       "      <td>0.743421</td>\n",
       "      <td>0.006579</td>\n",
       "      <td>0.019737</td>\n",
       "      <td>0.000000</td>\n",
       "      <td>0.000000</td>\n",
       "      <td>0.006579</td>\n",
       "    </tr>\n",
       "    <tr>\n",
       "      <th>russian</th>\n",
       "      <td>0.000000</td>\n",
       "      <td>0.019231</td>\n",
       "      <td>0.000000</td>\n",
       "      <td>0.009615</td>\n",
       "      <td>0.028846</td>\n",
       "      <td>0.182692</td>\n",
       "      <td>0.019231</td>\n",
       "      <td>0.028846</td>\n",
       "      <td>0.000000</td>\n",
       "      <td>0.134615</td>\n",
       "      <td>0.000000</td>\n",
       "      <td>0.000000</td>\n",
       "      <td>0.019231</td>\n",
       "      <td>0.048077</td>\n",
       "      <td>0.000000</td>\n",
       "      <td>0.394231</td>\n",
       "      <td>0.096154</td>\n",
       "      <td>0.009615</td>\n",
       "      <td>0.000000</td>\n",
       "      <td>0.009615</td>\n",
       "    </tr>\n",
       "    <tr>\n",
       "      <th>southern_us</th>\n",
       "      <td>0.001196</td>\n",
       "      <td>0.003589</td>\n",
       "      <td>0.058612</td>\n",
       "      <td>0.008373</td>\n",
       "      <td>0.001196</td>\n",
       "      <td>0.037081</td>\n",
       "      <td>0.002392</td>\n",
       "      <td>0.003589</td>\n",
       "      <td>0.003589</td>\n",
       "      <td>0.040670</td>\n",
       "      <td>0.001196</td>\n",
       "      <td>0.002392</td>\n",
       "      <td>0.002392</td>\n",
       "      <td>0.038278</td>\n",
       "      <td>0.003589</td>\n",
       "      <td>0.001196</td>\n",
       "      <td>0.784689</td>\n",
       "      <td>0.003589</td>\n",
       "      <td>0.001196</td>\n",
       "      <td>0.001196</td>\n",
       "    </tr>\n",
       "    <tr>\n",
       "      <th>spanish</th>\n",
       "      <td>0.005102</td>\n",
       "      <td>0.005102</td>\n",
       "      <td>0.035714</td>\n",
       "      <td>0.025510</td>\n",
       "      <td>0.005102</td>\n",
       "      <td>0.066327</td>\n",
       "      <td>0.005102</td>\n",
       "      <td>0.020408</td>\n",
       "      <td>0.005102</td>\n",
       "      <td>0.316327</td>\n",
       "      <td>0.005102</td>\n",
       "      <td>0.010204</td>\n",
       "      <td>0.000000</td>\n",
       "      <td>0.091837</td>\n",
       "      <td>0.015306</td>\n",
       "      <td>0.010204</td>\n",
       "      <td>0.071429</td>\n",
       "      <td>0.306122</td>\n",
       "      <td>0.000000</td>\n",
       "      <td>0.000000</td>\n",
       "    </tr>\n",
       "    <tr>\n",
       "      <th>thai</th>\n",
       "      <td>0.006173</td>\n",
       "      <td>0.000000</td>\n",
       "      <td>0.000000</td>\n",
       "      <td>0.061728</td>\n",
       "      <td>0.003086</td>\n",
       "      <td>0.000000</td>\n",
       "      <td>0.003086</td>\n",
       "      <td>0.030864</td>\n",
       "      <td>0.000000</td>\n",
       "      <td>0.006173</td>\n",
       "      <td>0.000000</td>\n",
       "      <td>0.006173</td>\n",
       "      <td>0.006173</td>\n",
       "      <td>0.037037</td>\n",
       "      <td>0.000000</td>\n",
       "      <td>0.000000</td>\n",
       "      <td>0.006173</td>\n",
       "      <td>0.000000</td>\n",
       "      <td>0.808642</td>\n",
       "      <td>0.024691</td>\n",
       "    </tr>\n",
       "    <tr>\n",
       "      <th>vietnamese</th>\n",
       "      <td>0.012579</td>\n",
       "      <td>0.000000</td>\n",
       "      <td>0.000000</td>\n",
       "      <td>0.100629</td>\n",
       "      <td>0.012579</td>\n",
       "      <td>0.018868</td>\n",
       "      <td>0.000000</td>\n",
       "      <td>0.018868</td>\n",
       "      <td>0.000000</td>\n",
       "      <td>0.025157</td>\n",
       "      <td>0.006289</td>\n",
       "      <td>0.012579</td>\n",
       "      <td>0.018868</td>\n",
       "      <td>0.025157</td>\n",
       "      <td>0.000000</td>\n",
       "      <td>0.000000</td>\n",
       "      <td>0.006289</td>\n",
       "      <td>0.000000</td>\n",
       "      <td>0.358491</td>\n",
       "      <td>0.383648</td>\n",
       "    </tr>\n",
       "  </tbody>\n",
       "</table>\n",
       "</div>"
      ],
      "text/plain": [
       "              brazilian   british  cajun_creole   chinese  filipino    french  \\\n",
       "brazilian      0.271605  0.000000      0.012346  0.012346  0.024691  0.024691   \n",
       "british        0.000000  0.197452      0.012739  0.006369  0.000000  0.216561   \n",
       "cajun_creole   0.000000  0.010033      0.645485  0.010033  0.000000  0.023411   \n",
       "chinese        0.001866  0.000000      0.005597  0.880597  0.003731  0.001866   \n",
       "filipino       0.006579  0.000000      0.006579  0.164474  0.467105  0.019737   \n",
       "french         0.001957  0.001957      0.007828  0.011742  0.000000  0.598826   \n",
       "greek          0.000000  0.000000      0.004255  0.004255  0.008511  0.034043   \n",
       "indian         0.000000  0.000000      0.000000  0.003328  0.000000  0.001664   \n",
       "irish          0.007246  0.036232      0.000000  0.000000  0.007246  0.123188   \n",
       "italian        0.001245  0.000000      0.004978  0.003111  0.000000  0.048538   \n",
       "jamaican       0.016000  0.008000      0.040000  0.024000  0.008000  0.024000   \n",
       "japanese       0.000000  0.003663      0.000000  0.146520  0.003663  0.018315   \n",
       "korean         0.000000  0.000000      0.000000  0.149660  0.000000  0.000000   \n",
       "mexican        0.002269  0.000756      0.001513  0.005295  0.000756  0.007564   \n",
       "moroccan       0.000000  0.000000      0.000000  0.006579  0.000000  0.000000   \n",
       "russian        0.000000  0.019231      0.000000  0.009615  0.028846  0.182692   \n",
       "southern_us    0.001196  0.003589      0.058612  0.008373  0.001196  0.037081   \n",
       "spanish        0.005102  0.005102      0.035714  0.025510  0.005102  0.066327   \n",
       "thai           0.006173  0.000000      0.000000  0.061728  0.003086  0.000000   \n",
       "vietnamese     0.012579  0.000000      0.000000  0.100629  0.012579  0.018868   \n",
       "\n",
       "                 greek    indian     irish   italian  jamaican  japanese  \\\n",
       "brazilian     0.000000  0.024691  0.000000  0.160494  0.000000  0.000000   \n",
       "british       0.000000  0.057325  0.025478  0.114650  0.000000  0.006369   \n",
       "cajun_creole  0.000000  0.003344  0.003344  0.093645  0.003344  0.000000   \n",
       "chinese       0.001866  0.003731  0.001866  0.022388  0.000000  0.022388   \n",
       "filipino      0.000000  0.006579  0.013158  0.052632  0.006579  0.006579   \n",
       "french        0.000000  0.005871  0.001957  0.225049  0.001957  0.005871   \n",
       "greek         0.578723  0.017021  0.000000  0.280851  0.000000  0.004255   \n",
       "indian        0.011647  0.896839  0.001664  0.023295  0.001664  0.000000   \n",
       "irish         0.014493  0.014493  0.347826  0.057971  0.007246  0.000000   \n",
       "italian       0.008090  0.002489  0.000622  0.885501  0.001867  0.000622   \n",
       "jamaican      0.000000  0.080000  0.016000  0.000000  0.568000  0.000000   \n",
       "japanese      0.000000  0.120879  0.000000  0.029304  0.000000  0.597070   \n",
       "korean        0.006803  0.000000  0.000000  0.013605  0.000000  0.047619   \n",
       "mexican       0.002269  0.004539  0.000000  0.024206  0.000000  0.000756   \n",
       "moroccan      0.006579  0.078947  0.000000  0.065789  0.000000  0.000000   \n",
       "russian       0.019231  0.028846  0.000000  0.134615  0.000000  0.000000   \n",
       "southern_us   0.002392  0.003589  0.003589  0.040670  0.001196  0.002392   \n",
       "spanish       0.005102  0.020408  0.005102  0.316327  0.005102  0.010204   \n",
       "thai          0.003086  0.030864  0.000000  0.006173  0.000000  0.006173   \n",
       "vietnamese    0.000000  0.018868  0.000000  0.025157  0.006289  0.012579   \n",
       "\n",
       "                korean   mexican  moroccan   russian  southern_us   spanish  \\\n",
       "brazilian     0.000000  0.222222  0.012346  0.012346     0.160494  0.000000   \n",
       "british       0.000000  0.000000  0.000000  0.019108     0.337580  0.000000   \n",
       "cajun_creole  0.000000  0.030100  0.000000  0.010033     0.163880  0.003344   \n",
       "chinese       0.005597  0.007463  0.000000  0.000000     0.007463  0.000000   \n",
       "filipino      0.019737  0.052632  0.000000  0.000000     0.072368  0.000000   \n",
       "french        0.000000  0.007828  0.009785  0.009785     0.097847  0.009785   \n",
       "greek         0.000000  0.012766  0.017021  0.000000     0.025532  0.004255   \n",
       "indian        0.000000  0.026622  0.014975  0.000000     0.011647  0.000000   \n",
       "irish         0.000000  0.036232  0.000000  0.007246     0.326087  0.014493   \n",
       "italian       0.000000  0.013690  0.000622  0.001245     0.024891  0.001867   \n",
       "jamaican      0.000000  0.040000  0.000000  0.016000     0.144000  0.008000   \n",
       "japanese      0.018315  0.014652  0.000000  0.007326     0.021978  0.000000   \n",
       "korean        0.755102  0.000000  0.000000  0.000000     0.006803  0.000000   \n",
       "mexican       0.000756  0.912254  0.000000  0.000000     0.031770  0.003026   \n",
       "moroccan      0.000000  0.065789  0.743421  0.006579     0.019737  0.000000   \n",
       "russian       0.019231  0.048077  0.000000  0.394231     0.096154  0.009615   \n",
       "southern_us   0.002392  0.038278  0.003589  0.001196     0.784689  0.003589   \n",
       "spanish       0.000000  0.091837  0.015306  0.010204     0.071429  0.306122   \n",
       "thai          0.006173  0.037037  0.000000  0.000000     0.006173  0.000000   \n",
       "vietnamese    0.018868  0.025157  0.000000  0.000000     0.006289  0.000000   \n",
       "\n",
       "                  thai  vietnamese  \n",
       "brazilian     0.061728    0.000000  \n",
       "british       0.006369    0.000000  \n",
       "cajun_creole  0.000000    0.000000  \n",
       "chinese       0.026119    0.007463  \n",
       "filipino      0.098684    0.006579  \n",
       "french        0.001957    0.000000  \n",
       "greek         0.008511    0.000000  \n",
       "indian        0.006656    0.000000  \n",
       "irish         0.000000    0.000000  \n",
       "italian       0.000622    0.000000  \n",
       "jamaican      0.008000    0.000000  \n",
       "japanese      0.014652    0.003663  \n",
       "korean        0.006803    0.013605  \n",
       "mexican       0.002269    0.000000  \n",
       "moroccan      0.000000    0.006579  \n",
       "russian       0.000000    0.009615  \n",
       "southern_us   0.001196    0.001196  \n",
       "spanish       0.000000    0.000000  \n",
       "thai          0.808642    0.024691  \n",
       "vietnamese    0.358491    0.383648  "
      ]
     },
     "execution_count": 39,
     "metadata": {},
     "output_type": "execute_result"
    }
   ],
   "source": [
    "# here's the text of the confusion matrix / heatmap\n",
    "norm_df"
   ]
  },
  {
   "cell_type": "markdown",
   "metadata": {
    "slideshow": {
     "slide_type": "slide"
    }
   },
   "source": [
    "If you were writing a guide, point out the cuisines that get miscategorized (each row). \n",
    "Along with the top 10 ingredients (list of terms), make sure to call out the most likely mistaken label.\n",
    "Example: this is spanish food, not italian!"
   ]
  },
  {
   "cell_type": "code",
   "execution_count": 63,
   "metadata": {
    "slideshow": {
     "slide_type": "fragment"
    }
   },
   "outputs": [
    {
     "data": {
      "image/png": "[encoded data removed]",
      "text/plain": [
       "<Figure size 720x576 with 2 Axes>"
      ]
     },
     "metadata": {
      "needs_background": "light"
     },
     "output_type": "display_data"
    }
   ],
   "source": [
    "pyplot.figure(figsize=(10, 8))\n",
    "confusion_graphic = sns.heatmap(norm_df, center = 1)\n"
   ]
  },
  {
   "cell_type": "markdown",
   "metadata": {
    "slideshow": {
     "slide_type": "slide"
    }
   },
   "source": [
    "For cuisines that are commonly mixed up, I can provide a list of most-differentiable words to help guide. Subtract spanish coefficients from italian coefficients and sort ascending. Only the first few are useful and there may be overlap with the other top ten list of identifying ingredients."
   ]
  },
  {
   "cell_type": "code",
   "execution_count": 64,
   "metadata": {},
   "outputs": [],
   "source": [
    "fig = confusion_graphic.get_figure()\n",
    "fig.savefig(\"recipe2cuisine_heatmap.png\", size=3)"
   ]
  },
  {
   "cell_type": "code",
   "execution_count": 41,
   "metadata": {
    "slideshow": {
     "slide_type": "fragment"
    }
   },
   "outputs": [
    {
     "data": {
      "text/plain": [
       "spanishchorizo    0.960622\n",
       "saffronthreads    0.853886\n",
       "sherryvinegar     0.841329\n",
       "serranoham        0.778543\n",
       "smokedpaprika     0.772265\n",
       "dtype: float64"
      ]
     },
     "execution_count": 41,
     "metadata": {},
     "output_type": "execute_result"
    }
   ],
   "source": [
    "# Here are the most spanish things that maximally differentiate from italian\n",
    "(coef_dataframe.spanish - coef_dataframe.italian).sort_values(ascending = False).head(5)"
   ]
  },
  {
   "cell_type": "markdown",
   "metadata": {
    "slideshow": {
     "slide_type": "slide"
    }
   },
   "source": [
    "## Random Forest"
   ]
  },
  {
   "cell_type": "markdown",
   "metadata": {},
   "source": [
    "### Random Forest with 100 trees, max depth 2"
   ]
  },
  {
   "cell_type": "code",
   "execution_count": 42,
   "metadata": {
    "slideshow": {
     "slide_type": "subslide"
    }
   },
   "outputs": [],
   "source": [
    "random_forest_model = RandomForestClassifier(n_estimators=100, max_depth=2, random_state=1)"
   ]
  },
  {
   "cell_type": "code",
   "execution_count": 43,
   "metadata": {
    "slideshow": {
     "slide_type": "fragment"
    }
   },
   "outputs": [],
   "source": [
    "fit_model_3 = random_forest_model.fit(x_train_counts, y_train)"
   ]
  },
  {
   "cell_type": "code",
   "execution_count": 44,
   "metadata": {
    "slideshow": {
     "slide_type": "fragment"
    }
   },
   "outputs": [
    {
     "data": {
      "text/plain": [
       "0.2759986171784154"
      ]
     },
     "execution_count": 44,
     "metadata": {},
     "output_type": "execute_result"
    }
   ],
   "source": [
    "fit_model_3.score(x_train_counts, y_train)"
   ]
  },
  {
   "cell_type": "code",
   "execution_count": 45,
   "metadata": {
    "slideshow": {
     "slide_type": "fragment"
    }
   },
   "outputs": [
    {
     "data": {
      "text/plain": [
       "0.2818353236957888"
      ]
     },
     "execution_count": 45,
     "metadata": {},
     "output_type": "execute_result"
    }
   ],
   "source": [
    "fit_model_3.score(x_test_counts, y_test)"
   ]
  },
  {
   "cell_type": "markdown",
   "metadata": {},
   "source": [
    "### How about max depth 5?"
   ]
  },
  {
   "cell_type": "code",
   "execution_count": 46,
   "metadata": {
    "slideshow": {
     "slide_type": "subslide"
    }
   },
   "outputs": [],
   "source": [
    "random_forest_model = RandomForestClassifier(n_estimators=200, max_depth=10, random_state=1)"
   ]
  },
  {
   "cell_type": "code",
   "execution_count": 47,
   "metadata": {
    "slideshow": {
     "slide_type": "fragment"
    }
   },
   "outputs": [],
   "source": [
    "fit_model_4 = random_forest_model.fit(x_train_counts, y_train)"
   ]
  },
  {
   "cell_type": "code",
   "execution_count": 48,
   "metadata": {
    "slideshow": {
     "slide_type": "fragment"
    }
   },
   "outputs": [
    {
     "data": {
      "text/plain": [
       "0.4447028504981301"
      ]
     },
     "execution_count": 48,
     "metadata": {},
     "output_type": "execute_result"
    }
   ],
   "source": [
    "fit_model_4.score(x_train_counts, y_train)"
   ]
  },
  {
   "cell_type": "code",
   "execution_count": 49,
   "metadata": {
    "slideshow": {
     "slide_type": "fragment"
    }
   },
   "outputs": [
    {
     "data": {
      "text/plain": [
       "0.4483972344437461"
      ]
     },
     "execution_count": 49,
     "metadata": {},
     "output_type": "execute_result"
    }
   ],
   "source": [
    "fit_model_4.score(x_test_counts, y_test)"
   ]
  },
  {
   "cell_type": "markdown",
   "metadata": {},
   "source": [
    "### Max depth 20, but now it's looking overfit."
   ]
  },
  {
   "cell_type": "code",
   "execution_count": 50,
   "metadata": {
    "slideshow": {
     "slide_type": "subslide"
    }
   },
   "outputs": [],
   "source": [
    "random_forest_model = RandomForestClassifier(n_estimators=200, max_depth=20, random_state=1)"
   ]
  },
  {
   "cell_type": "code",
   "execution_count": 51,
   "metadata": {
    "slideshow": {
     "slide_type": "fragment"
    }
   },
   "outputs": [],
   "source": [
    "fit_model_5 = random_forest_model.fit(x_train_counts, y_train)"
   ]
  },
  {
   "cell_type": "code",
   "execution_count": 52,
   "metadata": {
    "slideshow": {
     "slide_type": "fragment"
    }
   },
   "outputs": [
    {
     "data": {
      "text/plain": [
       "0.5572142430623213"
      ]
     },
     "execution_count": 52,
     "metadata": {},
     "output_type": "execute_result"
    }
   ],
   "source": [
    "fit_model_5.score(x_train_counts, y_train)"
   ]
  },
  {
   "cell_type": "code",
   "execution_count": 53,
   "metadata": {
    "slideshow": {
     "slide_type": "fragment"
    }
   },
   "outputs": [
    {
     "data": {
      "text/plain": [
       "0.5287240729101195"
      ]
     },
     "execution_count": 53,
     "metadata": {},
     "output_type": "execute_result"
    }
   ],
   "source": [
    "fit_model_5.score(x_test_counts, y_test)"
   ]
  },
  {
   "cell_type": "markdown",
   "metadata": {
    "slideshow": {
     "slide_type": "slide"
    }
   },
   "source": [
    "## 2. How could you design this to be robust enough to understand similarities/substitutions between ingredients?\n",
    "\n",
    "I would use PCA or a similar type of dimensionality reduction. If you cut down the number of dimensions, similar features will be forced into the same feature. That’s sort of like understanding substitution of ingredients without resorting to word embeddings and actual language models.\n"
   ]
  }
 ],
 "metadata": {
  "kernelspec": {
   "display_name": "Python [default]",
   "language": "python",
   "name": "python3"
  },
  "language_info": {
   "codemirror_mode": {
    "name": "ipython",
    "version": 3
   },
   "file_extension": ".py",
   "mimetype": "text/x-python",
   "name": "python",
   "nbconvert_exporter": "python",
   "pygments_lexer": "ipython3",
   "version": "3.6.6"
  }
 },
 "nbformat": 4,
 "nbformat_minor": 2
}
